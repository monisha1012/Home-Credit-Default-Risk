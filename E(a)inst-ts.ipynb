{
 "cells": [
  {
   "cell_type": "markdown",
   "metadata": {},
   "source": [
    "##  E(a).  INSTALLMENT PAYMENT-TIME SERIES FEATURE EXTRACTION\n",
    "Train GRU network on installment payment time series data. Save prediction to be used as features in final training."
   ]
  },
  {
   "cell_type": "code",
   "execution_count": 2,
   "metadata": {
    "_cell_guid": "b1076dfc-b9ad-4769-8c92-a6c4dae69d19",
    "_uuid": "8f2839f25d086af736a60e9eeb907d3b93b6e0e5"
   },
   "outputs": [
    {
     "name": "stdout",
     "output_type": "stream",
     "text": [
      "['.ipynb_checkpoints', 'Automated Hyper parameter tuning.ipynb', 'baseline_lgb.csv', 'baseline_lgb_domain_features.csv', 'bayes_test.csv', 'H20AutoML.ipynb', 'HomeCreditRiskKaggle.ipynb', 'Kaggle competition.docx', 'LightGBM with Simple Features.ipynb', 'log_reg_baseline.csv', 'random_forest_baseline.csv', 'random_forest_baseline_domain.csv', 'sample_submission.csv']\n"
     ]
    }
   ],
   "source": [
    "import pandas as pd\n",
    "import numpy as np\n",
    "\n",
    "from sklearn.linear_model import LinearRegression, Ridge\n",
    "from sklearn.metrics import roc_auc_score, roc_curve\n",
    "from sklearn.model_selection import KFold, StratifiedKFold, train_test_split\n",
    "from sklearn.preprocessing import StandardScaler, MinMaxScaler, MaxAbsScaler\n",
    "import gc\n",
    "\n",
    "import os\n",
    "print(os.listdir('C:/Users/monis/Desktop/Home credit risk'))\n",
    "    \n",
    "gc.enable()"
   ]
  },
  {
   "cell_type": "markdown",
   "metadata": {},
   "source": [
    "Helper functions."
   ]
  },
  {
   "cell_type": "code",
   "execution_count": 4,
   "metadata": {},
   "outputs": [],
   "source": [
    "def downcast_dtypes(df):\n",
    "    float_cols = [c for c in df if df[c].dtype == \"float64\"]\n",
    "    int_cols =   [c for c in df if df[c].dtype in [\"int64\"]]\n",
    "\n",
    "    df[float_cols] = df[float_cols].astype(np.float32)\n",
    "    df[int_cols]   = df[int_cols].astype(np.int32)\n",
    "\n",
    "    return df\n",
    "\n",
    "\n",
    "def scale_data(df_):\n",
    "    df = df_.copy(deep=True)\n",
    "    for f_ in df_.columns:\n",
    "        if (df[f_].max()- df[f_].min() <=10):\n",
    "            df[f_] = df[f_] - df[f_].min()\n",
    "            continue\n",
    "        df[f_] = df[f_] - df[f_].median()\n",
    "        scale = (df[f_].quantile(0.99)-df[f_].quantile(0.01))\n",
    "        if scale==0:\n",
    "            scale = df[f_].max() - df[f_].min()\n",
    "        df[f_] = df[f_]/scale\n",
    "        if df[f_].max()>10:\n",
    "            rescale = df[f_]>df[f_].quantile(0.99)\n",
    "            quantile99 = df[f_].quantile(0.99)\n",
    "            quantile100 = df[f_].max()\n",
    "            df[f_].loc[rescale] = quantile99 + (df[f_].loc[rescale] - quantile99) * (10-quantile99)/(quantile100-quantile99)\n",
    "        if df[f_].min()<-10:\n",
    "            rescale = df[f_]<df[f_].quantile(0.01)\n",
    "            quantile1 = df[f_].quantile(0.01)\n",
    "            quantile0 = df[f_].min()\n",
    "            df[f_].loc[rescale] = quantile1 + (df[f_].loc[rescale] - quantile1) * (-10-quantile1)/(quantile0-quantile1)\n",
    "        df[f_] = df[f_] - df[f_].min()\n",
    "    return df"
   ]
  },
  {
   "cell_type": "markdown",
   "metadata": {},
   "source": [
    "Read installment data and create features."
   ]
  },
  {
   "cell_type": "code",
   "execution_count": 5,
   "metadata": {
    "_uuid": "c667420221724b44093c52d85d01c0d9ab4482e2"
   },
   "outputs": [
    {
     "data": {
      "text/html": [
       "<div>\n",
       "<style scoped>\n",
       "    .dataframe tbody tr th:only-of-type {\n",
       "        vertical-align: middle;\n",
       "    }\n",
       "\n",
       "    .dataframe tbody tr th {\n",
       "        vertical-align: top;\n",
       "    }\n",
       "\n",
       "    .dataframe thead th {\n",
       "        text-align: right;\n",
       "    }\n",
       "</style>\n",
       "<table border=\"1\" class=\"dataframe\">\n",
       "  <thead>\n",
       "    <tr style=\"text-align: right;\">\n",
       "      <th></th>\n",
       "      <th>SK_ID_PREV</th>\n",
       "      <th>SK_ID_CURR</th>\n",
       "      <th>NUM_INSTALMENT_NUMBER</th>\n",
       "      <th>AMT_INSTALMENT</th>\n",
       "      <th>AMT_PAYMENT</th>\n",
       "      <th>AMT_PAYMENT_PERC</th>\n",
       "      <th>DPD</th>\n",
       "      <th>DBD</th>\n",
       "      <th>MONTHS_BALANCE</th>\n",
       "      <th>AMT_INSTALMENT_LOG</th>\n",
       "      <th>AMT_PAYMENT_LOG</th>\n",
       "    </tr>\n",
       "  </thead>\n",
       "  <tbody>\n",
       "    <tr>\n",
       "      <th>0</th>\n",
       "      <td>1000001</td>\n",
       "      <td>158271</td>\n",
       "      <td>1</td>\n",
       "      <td>0.044024</td>\n",
       "      <td>0.035582</td>\n",
       "      <td>0.999844</td>\n",
       "      <td>0.0</td>\n",
       "      <td>26.0</td>\n",
       "      <td>-8</td>\n",
       "      <td>8.764883</td>\n",
       "      <td>8.764883</td>\n",
       "    </tr>\n",
       "    <tr>\n",
       "      <th>1</th>\n",
       "      <td>1000001</td>\n",
       "      <td>158271</td>\n",
       "      <td>2</td>\n",
       "      <td>0.426463</td>\n",
       "      <td>0.344683</td>\n",
       "      <td>0.999984</td>\n",
       "      <td>0.0</td>\n",
       "      <td>6.0</td>\n",
       "      <td>-7</td>\n",
       "      <td>11.035536</td>\n",
       "      <td>11.035536</td>\n",
       "    </tr>\n",
       "    <tr>\n",
       "      <th>2</th>\n",
       "      <td>1000002</td>\n",
       "      <td>101962</td>\n",
       "      <td>1</td>\n",
       "      <td>0.043059</td>\n",
       "      <td>0.034802</td>\n",
       "      <td>0.999840</td>\n",
       "      <td>0.0</td>\n",
       "      <td>11.0</td>\n",
       "      <td>-52</td>\n",
       "      <td>8.742734</td>\n",
       "      <td>8.742734</td>\n",
       "    </tr>\n",
       "    <tr>\n",
       "      <th>3</th>\n",
       "      <td>1000002</td>\n",
       "      <td>101962</td>\n",
       "      <td>2</td>\n",
       "      <td>0.043059</td>\n",
       "      <td>0.034802</td>\n",
       "      <td>0.999840</td>\n",
       "      <td>0.0</td>\n",
       "      <td>5.0</td>\n",
       "      <td>-51</td>\n",
       "      <td>8.742734</td>\n",
       "      <td>8.742734</td>\n",
       "    </tr>\n",
       "    <tr>\n",
       "      <th>4</th>\n",
       "      <td>1000002</td>\n",
       "      <td>101962</td>\n",
       "      <td>3</td>\n",
       "      <td>0.043059</td>\n",
       "      <td>0.034802</td>\n",
       "      <td>0.999840</td>\n",
       "      <td>0.0</td>\n",
       "      <td>19.0</td>\n",
       "      <td>-50</td>\n",
       "      <td>8.742734</td>\n",
       "      <td>8.742734</td>\n",
       "    </tr>\n",
       "  </tbody>\n",
       "</table>\n",
       "</div>"
      ],
      "text/plain": [
       "   SK_ID_PREV  SK_ID_CURR  NUM_INSTALMENT_NUMBER  AMT_INSTALMENT  AMT_PAYMENT  \\\n",
       "0     1000001      158271                      1        0.044024     0.035582   \n",
       "1     1000001      158271                      2        0.426463     0.344683   \n",
       "2     1000002      101962                      1        0.043059     0.034802   \n",
       "3     1000002      101962                      2        0.043059     0.034802   \n",
       "4     1000002      101962                      3        0.043059     0.034802   \n",
       "\n",
       "   AMT_PAYMENT_PERC  DPD   DBD  MONTHS_BALANCE  AMT_INSTALMENT_LOG  \\\n",
       "0          0.999844  0.0  26.0              -8            8.764883   \n",
       "1          0.999984  0.0   6.0              -7           11.035536   \n",
       "2          0.999840  0.0  11.0             -52            8.742734   \n",
       "3          0.999840  0.0   5.0             -51            8.742734   \n",
       "4          0.999840  0.0  19.0             -50            8.742734   \n",
       "\n",
       "   AMT_PAYMENT_LOG  \n",
       "0         8.764883  \n",
       "1        11.035536  \n",
       "2         8.742734  \n",
       "3         8.742734  \n",
       "4         8.742734  "
      ]
     },
     "execution_count": 5,
     "metadata": {},
     "output_type": "execute_result"
    }
   ],
   "source": [
    "inst = pd.read_csv('installments_payments.csv')\n",
    "inst['DAYS_ENTRY_PAYMENT_weighted'] = inst['DAYS_ENTRY_PAYMENT'] * inst['AMT_PAYMENT']\n",
    "inst = inst.groupby(['SK_ID_PREV','SK_ID_CURR','NUM_INSTALMENT_NUMBER']).agg({\n",
    "                                                                       'DAYS_INSTALMENT':'mean',\n",
    "                                                                       'DAYS_ENTRY_PAYMENT_weighted':'sum',\n",
    "                                                                       'AMT_INSTALMENT':'mean',\n",
    "                                                                       'AMT_PAYMENT':'sum'})\n",
    "inst['DAYS_ENTRY_PAYMENT'] = inst['DAYS_ENTRY_PAYMENT_weighted']/inst['AMT_PAYMENT']\n",
    "inst = inst.reset_index()\n",
    "del inst['DAYS_ENTRY_PAYMENT_weighted']\n",
    "inst['AMT_PAYMENT_PERC'] = inst['AMT_PAYMENT'] / (1+inst['AMT_INSTALMENT'])\n",
    "inst['DPD'] = (inst['DAYS_ENTRY_PAYMENT'] - inst['DAYS_INSTALMENT']).clip(lower=0)\n",
    "inst['DBD'] = (inst['DAYS_INSTALMENT'] - inst['DAYS_ENTRY_PAYMENT']).clip(lower=0)\n",
    "inst['MONTHS_BALANCE'] = (inst['DAYS_INSTALMENT']/30.4375).astype('int')\n",
    "del inst['DAYS_ENTRY_PAYMENT'], inst['DAYS_INSTALMENT']\n",
    "gc.collect()\n",
    "#apply logarithm to make distribution more normal\n",
    "inst['AMT_INSTALMENT_LOG'] = inst['AMT_INSTALMENT'].apply(np.log1p)\n",
    "inst['AMT_PAYMENT_LOG'] = inst['AMT_PAYMENT'].apply(np.log1p)\n",
    "inst[['AMT_INSTALMENT','AMT_PAYMENT']] = scale_data(inst[['AMT_INSTALMENT','AMT_PAYMENT']])\n",
    "inst.head()"
   ]
  },
  {
   "cell_type": "markdown",
   "metadata": {},
   "source": [
    "Read target from main table."
   ]
  },
  {
   "cell_type": "code",
   "execution_count": 6,
   "metadata": {
    "_uuid": "3ba57fe82d915842f663fc21409af9f0ffc1abf8"
   },
   "outputs": [
    {
     "data": {
      "text/plain": [
       "((307511, 2), (48744, 1))"
      ]
     },
     "execution_count": 6,
     "metadata": {},
     "output_type": "execute_result"
    }
   ],
   "source": [
    "data_app = pd.read_csv('application_train.csv',usecols=['SK_ID_CURR','TARGET'])\n",
    "data_test = pd.read_csv('application_test.csv',usecols=['SK_ID_CURR'])\n",
    "data_app.shape, data_test.shape"
   ]
  },
  {
   "cell_type": "code",
   "execution_count": 7,
   "metadata": {
    "_uuid": "f9bbf170359e06f5c1bc257cc54e027cc396abb3"
   },
   "outputs": [
    {
     "data": {
      "text/plain": [
       "((291643,), (47944,))"
      ]
     },
     "execution_count": 7,
     "metadata": {},
     "output_type": "execute_result"
    }
   ],
   "source": [
    "trn_id = data_app['SK_ID_CURR'].loc[data_app.SK_ID_CURR.isin(inst.SK_ID_CURR)]\n",
    "test_id = data_test['SK_ID_CURR'].loc[data_test['SK_ID_CURR'].isin(inst.SK_ID_CURR)]\n",
    "trn_id.shape, test_id.shape"
   ]
  },
  {
   "cell_type": "markdown",
   "metadata": {},
   "source": [
    "Split train and test set. Group by ID and month to create time series."
   ]
  },
  {
   "cell_type": "code",
   "execution_count": 8,
   "metadata": {
    "_uuid": "0c6a308c58c959d41ba6fdaa9492133bfc5d0489"
   },
   "outputs": [
    {
     "data": {
      "text/html": [
       "<div>\n",
       "<style scoped>\n",
       "    .dataframe tbody tr th:only-of-type {\n",
       "        vertical-align: middle;\n",
       "    }\n",
       "\n",
       "    .dataframe tbody tr th {\n",
       "        vertical-align: top;\n",
       "    }\n",
       "\n",
       "    .dataframe thead th {\n",
       "        text-align: right;\n",
       "    }\n",
       "</style>\n",
       "<table border=\"1\" class=\"dataframe\">\n",
       "  <thead>\n",
       "    <tr style=\"text-align: right;\">\n",
       "      <th></th>\n",
       "      <th></th>\n",
       "      <th>SK_ID_PREV_COUNT</th>\n",
       "      <th>NUM_INSTALMENT_NUMBER_SUM</th>\n",
       "      <th>NUM_INSTALMENT_NUMBER_MAX</th>\n",
       "      <th>AMT_INSTALMENT_SUM</th>\n",
       "      <th>AMT_INSTALMENT_MEAN</th>\n",
       "      <th>AMT_PAYMENT_SUM</th>\n",
       "      <th>AMT_PAYMENT_MEAN</th>\n",
       "      <th>AMT_PAYMENT_PERC_MEAN</th>\n",
       "      <th>AMT_PAYMENT_PERC_MAX</th>\n",
       "      <th>DPD_SUM</th>\n",
       "      <th>DPD_MAX</th>\n",
       "      <th>DPD_MEAN</th>\n",
       "      <th>DBD_SUM</th>\n",
       "      <th>DBD_MAX</th>\n",
       "      <th>DBD_MEAN</th>\n",
       "      <th>AMT_INSTALMENT_LOG_MEAN</th>\n",
       "      <th>AMT_PAYMENT_LOG_MEAN</th>\n",
       "    </tr>\n",
       "    <tr>\n",
       "      <th>SK_ID_CURR</th>\n",
       "      <th>MONTHS_BALANCE</th>\n",
       "      <th></th>\n",
       "      <th></th>\n",
       "      <th></th>\n",
       "      <th></th>\n",
       "      <th></th>\n",
       "      <th></th>\n",
       "      <th></th>\n",
       "      <th></th>\n",
       "      <th></th>\n",
       "      <th></th>\n",
       "      <th></th>\n",
       "      <th></th>\n",
       "      <th></th>\n",
       "      <th></th>\n",
       "      <th></th>\n",
       "      <th></th>\n",
       "      <th></th>\n",
       "    </tr>\n",
       "  </thead>\n",
       "  <tbody>\n",
       "    <tr>\n",
       "      <th rowspan=\"5\" valign=\"top\">100001</th>\n",
       "      <th>-95</th>\n",
       "      <td>1</td>\n",
       "      <td>2</td>\n",
       "      <td>2</td>\n",
       "      <td>0.027373</td>\n",
       "      <td>0.027373</td>\n",
       "      <td>0.022124</td>\n",
       "      <td>0.022124</td>\n",
       "      <td>0.999749</td>\n",
       "      <td>0.999749</td>\n",
       "      <td>0.0</td>\n",
       "      <td>0.0</td>\n",
       "      <td>0.0</td>\n",
       "      <td>0.0</td>\n",
       "      <td>0.0</td>\n",
       "      <td>0.0</td>\n",
       "      <td>8.289804</td>\n",
       "      <td>8.289804</td>\n",
       "    </tr>\n",
       "    <tr>\n",
       "      <th>-94</th>\n",
       "      <td>1</td>\n",
       "      <td>3</td>\n",
       "      <td>3</td>\n",
       "      <td>0.027373</td>\n",
       "      <td>0.027373</td>\n",
       "      <td>0.022124</td>\n",
       "      <td>0.022124</td>\n",
       "      <td>0.999749</td>\n",
       "      <td>0.999749</td>\n",
       "      <td>11.0</td>\n",
       "      <td>11.0</td>\n",
       "      <td>11.0</td>\n",
       "      <td>0.0</td>\n",
       "      <td>0.0</td>\n",
       "      <td>0.0</td>\n",
       "      <td>8.289804</td>\n",
       "      <td>8.289804</td>\n",
       "    </tr>\n",
       "    <tr>\n",
       "      <th>-93</th>\n",
       "      <td>1</td>\n",
       "      <td>4</td>\n",
       "      <td>4</td>\n",
       "      <td>0.027365</td>\n",
       "      <td>0.027365</td>\n",
       "      <td>0.022118</td>\n",
       "      <td>0.022118</td>\n",
       "      <td>0.999749</td>\n",
       "      <td>0.999749</td>\n",
       "      <td>0.0</td>\n",
       "      <td>0.0</td>\n",
       "      <td>0.0</td>\n",
       "      <td>0.0</td>\n",
       "      <td>0.0</td>\n",
       "      <td>0.0</td>\n",
       "      <td>8.289520</td>\n",
       "      <td>8.289520</td>\n",
       "    </tr>\n",
       "    <tr>\n",
       "      <th>-56</th>\n",
       "      <td>1</td>\n",
       "      <td>1</td>\n",
       "      <td>1</td>\n",
       "      <td>0.027160</td>\n",
       "      <td>0.027160</td>\n",
       "      <td>0.021951</td>\n",
       "      <td>0.021951</td>\n",
       "      <td>0.999747</td>\n",
       "      <td>0.999747</td>\n",
       "      <td>0.0</td>\n",
       "      <td>0.0</td>\n",
       "      <td>0.0</td>\n",
       "      <td>6.0</td>\n",
       "      <td>6.0</td>\n",
       "      <td>6.0</td>\n",
       "      <td>8.281977</td>\n",
       "      <td>8.281977</td>\n",
       "    </tr>\n",
       "    <tr>\n",
       "      <th>-55</th>\n",
       "      <td>1</td>\n",
       "      <td>2</td>\n",
       "      <td>2</td>\n",
       "      <td>0.027160</td>\n",
       "      <td>0.027160</td>\n",
       "      <td>0.021951</td>\n",
       "      <td>0.021951</td>\n",
       "      <td>0.999747</td>\n",
       "      <td>0.999747</td>\n",
       "      <td>0.0</td>\n",
       "      <td>0.0</td>\n",
       "      <td>0.0</td>\n",
       "      <td>36.0</td>\n",
       "      <td>36.0</td>\n",
       "      <td>36.0</td>\n",
       "      <td>8.281977</td>\n",
       "      <td>8.281977</td>\n",
       "    </tr>\n",
       "  </tbody>\n",
       "</table>\n",
       "</div>"
      ],
      "text/plain": [
       "                           SK_ID_PREV_COUNT  NUM_INSTALMENT_NUMBER_SUM  \\\n",
       "SK_ID_CURR MONTHS_BALANCE                                                \n",
       "100001     -95                            1                          2   \n",
       "           -94                            1                          3   \n",
       "           -93                            1                          4   \n",
       "           -56                            1                          1   \n",
       "           -55                            1                          2   \n",
       "\n",
       "                           NUM_INSTALMENT_NUMBER_MAX  AMT_INSTALMENT_SUM  \\\n",
       "SK_ID_CURR MONTHS_BALANCE                                                  \n",
       "100001     -95                                     2            0.027373   \n",
       "           -94                                     3            0.027373   \n",
       "           -93                                     4            0.027365   \n",
       "           -56                                     1            0.027160   \n",
       "           -55                                     2            0.027160   \n",
       "\n",
       "                           AMT_INSTALMENT_MEAN  AMT_PAYMENT_SUM  \\\n",
       "SK_ID_CURR MONTHS_BALANCE                                         \n",
       "100001     -95                        0.027373         0.022124   \n",
       "           -94                        0.027373         0.022124   \n",
       "           -93                        0.027365         0.022118   \n",
       "           -56                        0.027160         0.021951   \n",
       "           -55                        0.027160         0.021951   \n",
       "\n",
       "                           AMT_PAYMENT_MEAN  AMT_PAYMENT_PERC_MEAN  \\\n",
       "SK_ID_CURR MONTHS_BALANCE                                            \n",
       "100001     -95                     0.022124               0.999749   \n",
       "           -94                     0.022124               0.999749   \n",
       "           -93                     0.022118               0.999749   \n",
       "           -56                     0.021951               0.999747   \n",
       "           -55                     0.021951               0.999747   \n",
       "\n",
       "                           AMT_PAYMENT_PERC_MAX  DPD_SUM  DPD_MAX  DPD_MEAN  \\\n",
       "SK_ID_CURR MONTHS_BALANCE                                                     \n",
       "100001     -95                         0.999749      0.0      0.0       0.0   \n",
       "           -94                         0.999749     11.0     11.0      11.0   \n",
       "           -93                         0.999749      0.0      0.0       0.0   \n",
       "           -56                         0.999747      0.0      0.0       0.0   \n",
       "           -55                         0.999747      0.0      0.0       0.0   \n",
       "\n",
       "                           DBD_SUM  DBD_MAX  DBD_MEAN  \\\n",
       "SK_ID_CURR MONTHS_BALANCE                               \n",
       "100001     -95                 0.0      0.0       0.0   \n",
       "           -94                 0.0      0.0       0.0   \n",
       "           -93                 0.0      0.0       0.0   \n",
       "           -56                 6.0      6.0       6.0   \n",
       "           -55                36.0     36.0      36.0   \n",
       "\n",
       "                           AMT_INSTALMENT_LOG_MEAN  AMT_PAYMENT_LOG_MEAN  \n",
       "SK_ID_CURR MONTHS_BALANCE                                                 \n",
       "100001     -95                            8.289804              8.289804  \n",
       "           -94                            8.289804              8.289804  \n",
       "           -93                            8.289520              8.289520  \n",
       "           -56                            8.281977              8.281977  \n",
       "           -55                            8.281977              8.281977  "
      ]
     },
     "execution_count": 8,
     "metadata": {},
     "output_type": "execute_result"
    }
   ],
   "source": [
    "inst_trn = inst.loc[inst.SK_ID_CURR.isin(trn_id)]\n",
    "inst_test = inst.loc[inst.SK_ID_CURR.isin(test_id)]\n",
    "num_aggregations = {\n",
    "    'SK_ID_PREV': ['count'],\n",
    "    'NUM_INSTALMENT_NUMBER': ['sum', 'max'],\n",
    "    'AMT_INSTALMENT': ['sum','mean'],\n",
    "    'AMT_PAYMENT': ['sum','mean'],\n",
    "    'AMT_PAYMENT_PERC': ['mean','max'],\n",
    "    'DPD': ['sum','max','mean'],\n",
    "    'DBD': ['sum','max','mean'],\n",
    "    'AMT_INSTALMENT_LOG': ['mean'],\n",
    "    'AMT_PAYMENT_LOG': ['mean']\n",
    "}\n",
    "inst_trn = inst_trn.groupby(['SK_ID_CURR','MONTHS_BALANCE']).agg(num_aggregations)\n",
    "inst_test = inst_test.groupby(['SK_ID_CURR','MONTHS_BALANCE']).agg(num_aggregations)\n",
    "inst_trn.columns = pd.Index([e[0] + \"_\" + e[1].upper() for e in inst_trn.columns.tolist()])\n",
    "inst_test.columns = pd.Index([e[0] + \"_\" + e[1].upper() for e in inst_test.columns.tolist()])\n",
    "\n",
    "inst_trn = downcast_dtypes(inst_trn)\n",
    "inst_test = downcast_dtypes(inst_test)\n",
    "del inst\n",
    "gc.collect()\n",
    "inst_test.head()"
   ]
  },
  {
   "cell_type": "markdown",
   "metadata": {},
   "source": [
    "Convert dataframe to 3D array (n_sample * n_time_step * n_features) for GRU network training."
   ]
  },
  {
   "cell_type": "code",
   "execution_count": 9,
   "metadata": {
    "_uuid": "cec4687df3722ac66e8b6676321ec5da963b1af0"
   },
   "outputs": [
    {
     "name": "stderr",
     "output_type": "stream",
     "text": [
      "C:\\Users\\monis\\Anaconda3\\lib\\site-packages\\ipykernel_launcher.py:1: FutureWarning: \n",
      "Panel is deprecated and will be removed in a future version.\n",
      "The recommended way to represent these types of 3-dimensional data are with a MultiIndex on a DataFrame, via the Panel.to_frame() method\n",
      "Alternatively, you can use the xarray package http://xarray.pydata.org/en/stable/.\n",
      "Pandas provides a `.to_xarray()` method to help automate this conversion.\n",
      "\n",
      "  \"\"\"Entry point for launching an IPython kernel.\n",
      "C:\\Users\\monis\\Anaconda3\\lib\\site-packages\\ipykernel_launcher.py:3: FutureWarning: \n",
      "Panel is deprecated and will be removed in a future version.\n",
      "The recommended way to represent these types of 3-dimensional data are with a MultiIndex on a DataFrame, via the Panel.to_frame() method\n",
      "Alternatively, you can use the xarray package http://xarray.pydata.org/en/stable/.\n",
      "Pandas provides a `.to_xarray()` method to help automate this conversion.\n",
      "\n",
      "  This is separate from the ipykernel package so we can avoid doing imports until\n"
     ]
    }
   ],
   "source": [
    "train_x = inst_trn.to_panel().to_xarray().values\n",
    "train_x = train_x.swapaxes(0,1).swapaxes(1,2)\n",
    "test_x = inst_test.to_panel().to_xarray().values\n",
    "test_x = test_x.swapaxes(0,1).swapaxes(1,2)\n",
    "train_x[np.isnan(train_x)]=-9\n",
    "test_x[np.isnan(test_x)]=-9\n",
    "train_y = data_app['TARGET'].loc[data_app.SK_ID_CURR.isin(trn_id)]\n",
    "\n",
    "# del inst_trn, inst_test\n",
    "# gc.collect()\n",
    "\n",
    "# train_x.shape, test_x.shape, train_y.shape"
   ]
  },
  {
   "cell_type": "code",
   "execution_count": 10,
   "metadata": {},
   "outputs": [
    {
     "data": {
      "text/plain": [
       "7"
      ]
     },
     "execution_count": 10,
     "metadata": {},
     "output_type": "execute_result"
    }
   ],
   "source": [
    "del inst_trn, inst_test\n",
    "gc.collect()"
   ]
  },
  {
   "cell_type": "code",
   "execution_count": 11,
   "metadata": {},
   "outputs": [
    {
     "data": {
      "text/plain": [
       "((291643, 97, 17), (47944, 97, 17), (291643,))"
      ]
     },
     "execution_count": 11,
     "metadata": {},
     "output_type": "execute_result"
    }
   ],
   "source": [
    "train_x.shape, test_x.shape, train_y.shape"
   ]
  },
  {
   "cell_type": "markdown",
   "metadata": {},
   "source": [
    "### Define GRU model. Use callback to evaluate auc metric."
   ]
  },
  {
   "cell_type": "code",
   "execution_count": 12,
   "metadata": {
    "_uuid": "d39a2f9dec6d979ba1967f274e068ee2175da34c"
   },
   "outputs": [
    {
     "name": "stderr",
     "output_type": "stream",
     "text": [
      "Using TensorFlow backend.\n"
     ]
    }
   ],
   "source": [
    "from keras.models import Sequential\n",
    "from keras.layers import Dense\n",
    "from keras.layers import LSTM, GRU\n",
    "from keras.regularizers import l2\n",
    "from keras.optimizers import RMSprop, Adam\n",
    "\n"
   ]
  },
  {
   "cell_type": "code",
   "execution_count": 13,
   "metadata": {},
   "outputs": [],
   "source": [
    "def build_model(time_step, n_features):\n",
    "    model = Sequential()\n",
    "    model.add(GRU(8, input_shape=(time_step, n_features))) #unit: #of neurons in each LSTM cell? input_shape=(time_step, n_features)\n",
    "    model.add(Dense(1,activation='sigmoid'))\n",
    "    return model\n",
    "\n",
    "from keras.callbacks import Callback\n",
    "from keras.callbacks import EarlyStopping\n",
    "import logging\n",
    "\n",
    "class IntervalEvaluation(Callback):\n",
    "    def __init__(self, validation_data=(), interval=1):\n",
    "        super(Callback, self).__init__()\n",
    "\n",
    "        self.interval = interval\n",
    "        self.X_val, self.y_val = validation_data\n",
    "\n",
    "    def on_epoch_end(self, epoch, logs={}):\n",
    "        if epoch % self.interval == (self.interval-1):\n",
    "            y_pred = self.model.predict(self.X_val, verbose=0)[:,0]\n",
    "            score = roc_auc_score(self.y_val, y_pred)\n",
    "            print('roc score',score)\n",
    "            "
   ]
  },
  {
   "cell_type": "markdown",
   "metadata": {},
   "source": [
    "Training..."
   ]
  },
  {
   "cell_type": "code",
   "execution_count": 14,
   "metadata": {
    "_uuid": "8196c1f6d8afd551ab3fa230f2a14715b553425f",
    "scrolled": true
   },
   "outputs": [],
   "source": [
    "# Run a 5 fold\n",
    "folds = StratifiedKFold(n_splits=5, shuffle=True, random_state=777)\n",
    "oof_preds = np.zeros(train_x.shape[0])\n",
    "sub_preds = np.zeros(test_x.shape[0])\n",
    "\n",
    "\n",
    "    \n",
    "\n",
    "    \n",
    "#     oof_preds[val_idx] = model.predict(val_x)[:,0]\n",
    "#     sub_preds += model.predict(test_x)[:,0] / folds.n_splits\n",
    "    \n",
    "#     print('Fold %2d AUC : %.6f' % (n_fold + 1, roc_auc_score(val_y, oof_preds[val_idx])))\n",
    "  \n",
    "#     del model, trn_x, trn_y, val_x, val_y\n",
    "#     gc.collect()"
   ]
  },
  {
   "cell_type": "code",
   "execution_count": 15,
   "metadata": {},
   "outputs": [],
   "source": [
    "for n_fold, (trn_idx, val_idx) in enumerate(folds.split(train_x, train_y)):\n",
    "    trn_x, val_x = train_x[trn_idx], train_x[val_idx]\n",
    "    trn_y, val_y = train_y.values[trn_idx], train_y.values[val_idx]\n",
    "    ival = IntervalEvaluation(validation_data=(val_x, val_y), interval=5)"
   ]
  },
  {
   "cell_type": "code",
   "execution_count": 16,
   "metadata": {},
   "outputs": [
    {
     "name": "stdout",
     "output_type": "stream",
     "text": [
      "WARNING:tensorflow:From C:\\Users\\monis\\Anaconda3\\lib\\site-packages\\tensorflow\\python\\framework\\op_def_library.py:263: colocate_with (from tensorflow.python.framework.ops) is deprecated and will be removed in a future version.\n",
      "Instructions for updating:\n",
      "Colocations handled automatically by placer.\n",
      "WARNING:tensorflow:From C:\\Users\\monis\\Anaconda3\\lib\\site-packages\\tensorflow\\python\\ops\\math_ops.py:3066: to_int32 (from tensorflow.python.ops.math_ops) is deprecated and will be removed in a future version.\n",
      "Instructions for updating:\n",
      "Use tf.cast instead.\n",
      "Train on 233315 samples, validate on 58328 samples\n",
      "Epoch 1/40\n",
      "Epoch 2/40\n",
      "Epoch 3/40\n",
      "Epoch 4/40\n",
      "Epoch 5/40\n",
      "roc score 0.5426625910447574\n",
      "Epoch 6/40\n",
      "Epoch 7/40\n",
      "Epoch 8/40\n",
      "Epoch 9/40\n",
      "Epoch 10/40\n",
      "roc score 0.562305968261808\n",
      "Epoch 11/40\n",
      "Epoch 12/40\n",
      "Epoch 13/40\n",
      "Epoch 14/40\n",
      "Epoch 15/40\n",
      "roc score 0.5718870291729394\n",
      "Epoch 16/40\n",
      "Epoch 17/40\n",
      "Epoch 18/40\n",
      "Epoch 19/40\n",
      "Epoch 20/40\n",
      "roc score 0.5924490872329541\n",
      "Epoch 21/40\n",
      "Epoch 22/40\n",
      "Epoch 23/40\n",
      "Epoch 24/40\n",
      "Epoch 25/40\n",
      "roc score 0.603628750419289\n",
      "Epoch 26/40\n",
      "Epoch 27/40\n",
      "Epoch 28/40\n",
      "Epoch 29/40\n",
      "Epoch 30/40\n",
      "roc score 0.6104027707346336\n",
      "Epoch 31/40\n",
      "Epoch 32/40\n",
      "Epoch 33/40\n",
      "Epoch 34/40\n",
      "Epoch 35/40\n",
      "roc score 0.612428975043855\n",
      "Epoch 36/40\n",
      "Epoch 37/40\n",
      "Epoch 38/40\n",
      "Epoch 39/40\n",
      "Epoch 40/40\n",
      "roc score 0.6155440805668564\n"
     ]
    },
    {
     "data": {
      "text/plain": [
       "<keras.callbacks.History at 0x28824a52da0>"
      ]
     },
     "execution_count": 16,
     "metadata": {},
     "output_type": "execute_result"
    }
   ],
   "source": [
    "    model = build_model(trn_x.shape[1],trn_x.shape[2])\n",
    "    model.compile(loss='binary_crossentropy', optimizer=Adam(decay=0.0001))\n",
    "    model.fit(trn_x, trn_y,\n",
    "              validation_data = [val_x, val_y],\n",
    "              epochs=40, batch_size=8000, \n",
    "              class_weight = {0:1,1:10},\n",
    "              callbacks=[ival], verbose=5)"
   ]
  },
  {
   "cell_type": "markdown",
   "metadata": {},
   "source": [
    "Save model prediction to disk."
   ]
  },
  {
   "cell_type": "code",
   "execution_count": 17,
   "metadata": {
    "_uuid": "702835883349074834b30bdf194820d98cd36631"
   },
   "outputs": [],
   "source": [
    "inst_score_train = pd.DataFrame({'inst_score':oof_preds}, index=trn_id)\n",
    "inst_score_test = pd.DataFrame({'inst_score':sub_preds}, index=test_id)             \n",
    "inst_score_train.to_csv('inst_score_train.csv')\n",
    "inst_score_test.to_csv('inst_score_test.csv')"
   ]
  }
 ],
 "metadata": {
  "kernelspec": {
   "display_name": "Python 3",
   "language": "python",
   "name": "python3"
  },
  "language_info": {
   "codemirror_mode": {
    "name": "ipython",
    "version": 3
   },
   "file_extension": ".py",
   "mimetype": "text/x-python",
   "name": "python",
   "nbconvert_exporter": "python",
   "pygments_lexer": "ipython3",
   "version": "3.7.1"
  }
 },
 "nbformat": 4,
 "nbformat_minor": 1
}
