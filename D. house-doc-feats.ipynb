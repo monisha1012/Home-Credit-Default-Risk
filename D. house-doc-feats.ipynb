{
 "cells": [
  {
   "cell_type": "markdown",
   "metadata": {},
   "source": [
    "## D. HOUSE & DOCUMENT FEATURES FROM LOGISTIC REGRESSION\n",
    "\n",
    "\n",
    "Use logistic regression to predict target with only house or document features. The predictions are saved to disk to be merged to main table later."
   ]
  },
  {
   "cell_type": "code",
   "execution_count": 1,
   "metadata": {
    "_cell_guid": "b1076dfc-b9ad-4769-8c92-a6c4dae69d19",
    "_uuid": "8f2839f25d086af736a60e9eeb907d3b93b6e0e5"
   },
   "outputs": [
    {
     "name": "stdout",
     "output_type": "stream",
     "text": [
      "['.ipynb_checkpoints', 'Automated Hyper parameter tuning.ipynb', 'baseline_lgb.csv', 'baseline_lgb_domain_features.csv', 'bayes_test.csv', 'H20AutoML.ipynb', 'HomeCreditRiskKaggle.ipynb', 'Kaggle competition.docx', 'LightGBM with Simple Features.ipynb', 'log_reg_baseline.csv', 'random_forest_baseline.csv', 'random_forest_baseline_domain.csv', 'sample_submission.csv']\n"
     ]
    }
   ],
   "source": [
    "import pandas as pd\n",
    "import numpy as np\n",
    "\n",
    "from sklearn.linear_model import LinearRegression, Ridge\n",
    "from sklearn.metrics import roc_auc_score, roc_curve\n",
    "from sklearn.model_selection import KFold, StratifiedKFold, train_test_split\n",
    "from sklearn.preprocessing import StandardScaler, MinMaxScaler, MaxAbsScaler\n",
    "\n",
    "import gc\n",
    "\n",
    "import matplotlib.pyplot as plt\n",
    "import seaborn as sns\n",
    "\n",
    "import os\n",
    "print(os.listdir('C:/Users/monis/Desktop/Home credit risk'))\n",
    "    \n",
    "gc.enable()"
   ]
  },
  {
   "cell_type": "markdown",
   "metadata": {},
   "source": [
    "### House features\n",
    "\n",
    "Read house features from main train/test table."
   ]
  },
  {
   "cell_type": "code",
   "execution_count": 2,
   "metadata": {
    "_cell_guid": "79c7e3d0-c299-4dcb-8224-4455121ee9b0",
    "_uuid": "d629ff2d2480ee46fbb7e2d37f6b5fab8052498a",
    "scrolled": false
   },
   "outputs": [
    {
     "data": {
      "text/plain": [
       "224"
      ]
     },
     "execution_count": 2,
     "metadata": {},
     "output_type": "execute_result"
    }
   ],
   "source": [
    "data = pd.read_csv('application_train.csv')\n",
    "test = pd.read_csv('application_test.csv')\n",
    "\n",
    "rejected_features = ['AMT_GOODS_PRICE',\n",
    "                     'APARTMENTS_AVG','APARTMENTS_MEDI',\n",
    "                     'BASEMENTAREA_AVG','BASEMENTAREA_MODE','COMMONAREA_AVG','COMMONAREA_MODE',\n",
    "                     'ELEVATORS_AVG','ELEVATORS_MEDI','ENTRANCES_AVG','ENTRANCES_MEDI','FLOORSMAX_AVG','FLOORSMAX_MEDI',\n",
    "                     'FLOORSMIN_AVG','FLOORSMIN_MEDI','LANDAREA_AVG','LANDAREA_MODE',\n",
    "                     'LIVINGAPARTMENTS_AVG','LIVINGAPARTMENTS_MEDI',\n",
    "                     'LIVINGAREA_AVG','LIVINGAREA_MODE',\n",
    "                     'NONLIVINGAPARTMENTS_AVG','NONLIVINGAPARTMENTS_MEDI',\n",
    "                     'NONLIVINGAREA_AVG','NONLIVINGAREA_MODE','OBS_60_CNT_SOCIAL_CIRCLE',\n",
    "                     'REGION_RATING_CLIENT_W_CITY','YEARS_BEGINEXPLUATATION_AVG','YEARS_BEGINEXPLUATATION_MEDI',\n",
    "                     'YEARS_BUILD_AVG','YEARS_BUILD_MEDI']\n",
    "\n",
    "for f_ in rejected_features:\n",
    "    del data[f_]\n",
    "    del test[f_]\n",
    "    \n",
    "gc.collect()"
   ]
  },
  {
   "cell_type": "markdown",
   "metadata": {},
   "source": [
    "Create per person house features (living area per person, number of floors per person, etc.)"
   ]
  },
  {
   "cell_type": "code",
   "execution_count": 3,
   "metadata": {
    "_uuid": "b321a0254288abf778b1fa26569149d735c50e90"
   },
   "outputs": [
    {
     "name": "stderr",
     "output_type": "stream",
     "text": [
      "C:\\Users\\monis\\Anaconda3\\lib\\site-packages\\pandas\\core\\indexing.py:189: SettingWithCopyWarning: \n",
      "A value is trying to be set on a copy of a slice from a DataFrame\n",
      "\n",
      "See the caveats in the documentation: http://pandas.pydata.org/pandas-docs/stable/indexing.html#indexing-view-versus-copy\n",
      "  self._setitem_with_indexer(indexer, value)\n"
     ]
    },
    {
     "name": "stdout",
     "output_type": "stream",
     "text": [
      "APARTMENTS_MODE\n",
      "ELEVATORS_MODE\n",
      "ENTRANCES_MODE\n",
      "FLOORSMAX_MODE\n",
      "FLOORSMIN_MODE\n",
      "LIVINGAPARTMENTS_MODE\n",
      "NONLIVINGAPARTMENTS_MODE\n",
      "BASEMENTAREA_MEDI\n",
      "COMMONAREA_MEDI\n",
      "LANDAREA_MEDI\n",
      "LIVINGAREA_MEDI\n",
      "NONLIVINGAREA_MEDI\n",
      "TOTALAREA_MODE\n"
     ]
    }
   ],
   "source": [
    "data['AGE'] = - (data['DAYS_BIRTH']/365.25).astype('int32')\n",
    "data['house_person'] = 1\n",
    "data['house_person'].loc[data['NAME_HOUSING_TYPE']=='With parents'] +=2\n",
    "data['house_person'].loc[(data['NAME_FAMILY_STATUS']=='Married')|(data['NAME_FAMILY_STATUS']=='Civil marriage')] +=1\n",
    "data['house_person'].loc[data['AGE']<55] += data['CNT_CHILDREN']\n",
    "\n",
    "test['AGE'] = - (test['DAYS_BIRTH']/365.25).astype('int32')\n",
    "test['house_person'] = 1\n",
    "test['house_person'].loc[test['NAME_HOUSING_TYPE']=='With parents'] +=2\n",
    "test['house_person'].loc[(test['NAME_FAMILY_STATUS']=='Married')|(test['NAME_FAMILY_STATUS']=='Civil marriage')] +=1\n",
    "test['house_person'].loc[test['AGE']<55] += test['CNT_CHILDREN']\n",
    "\n",
    "house = [f_ for f_ in data.columns if ('AVG' in f_) | ('MEDI' in f_) | ('MODE' in f_) & (not 'YEARS' in f_)]\n",
    "for f_ in house:\n",
    "    if data[f_].dtype != 'object':\n",
    "        print (f_)\n",
    "        data[f_+'_PP'] = data[f_]/data['house_person']\n",
    "        test[f_+'_PP'] = test[f_]/test['house_person']"
   ]
  },
  {
   "cell_type": "code",
   "execution_count": 4,
   "metadata": {
    "_uuid": "af63edc253a383443e511330baed61fc3c450a77"
   },
   "outputs": [
    {
     "name": "stdout",
     "output_type": "stream",
     "text": [
      "32 ['APARTMENTS_MODE', 'YEARS_BEGINEXPLUATATION_MODE', 'YEARS_BUILD_MODE', 'ELEVATORS_MODE', 'ENTRANCES_MODE', 'FLOORSMAX_MODE', 'FLOORSMIN_MODE', 'LIVINGAPARTMENTS_MODE', 'NONLIVINGAPARTMENTS_MODE', 'BASEMENTAREA_MEDI', 'COMMONAREA_MEDI', 'LANDAREA_MEDI', 'LIVINGAREA_MEDI', 'NONLIVINGAREA_MEDI', 'FONDKAPREMONT_MODE', 'HOUSETYPE_MODE', 'TOTALAREA_MODE', 'WALLSMATERIAL_MODE', 'EMERGENCYSTATE_MODE', 'APARTMENTS_MODE_PP', 'ELEVATORS_MODE_PP', 'ENTRANCES_MODE_PP', 'FLOORSMAX_MODE_PP', 'FLOORSMIN_MODE_PP', 'LIVINGAPARTMENTS_MODE_PP', 'NONLIVINGAPARTMENTS_MODE_PP', 'BASEMENTAREA_MEDI_PP', 'COMMONAREA_MEDI_PP', 'LANDAREA_MEDI_PP', 'LIVINGAREA_MEDI_PP', 'NONLIVINGAREA_MEDI_PP', 'TOTALAREA_MODE_PP']\n"
     ]
    },
    {
     "data": {
      "text/html": [
       "<div>\n",
       "<style scoped>\n",
       "    .dataframe tbody tr th:only-of-type {\n",
       "        vertical-align: middle;\n",
       "    }\n",
       "\n",
       "    .dataframe tbody tr th {\n",
       "        vertical-align: top;\n",
       "    }\n",
       "\n",
       "    .dataframe thead th {\n",
       "        text-align: right;\n",
       "    }\n",
       "</style>\n",
       "<table border=\"1\" class=\"dataframe\">\n",
       "  <thead>\n",
       "    <tr style=\"text-align: right;\">\n",
       "      <th></th>\n",
       "      <th>REGION_POPULATION_RELATIVE</th>\n",
       "      <th>NAME_HOUSING_TYPE</th>\n",
       "      <th>APARTMENTS_MODE</th>\n",
       "      <th>YEARS_BEGINEXPLUATATION_MODE</th>\n",
       "      <th>YEARS_BUILD_MODE</th>\n",
       "      <th>ELEVATORS_MODE</th>\n",
       "      <th>ENTRANCES_MODE</th>\n",
       "      <th>FLOORSMAX_MODE</th>\n",
       "      <th>FLOORSMIN_MODE</th>\n",
       "      <th>LIVINGAPARTMENTS_MODE</th>\n",
       "      <th>...</th>\n",
       "      <th>FLOORSMAX_MODE_PP</th>\n",
       "      <th>FLOORSMIN_MODE_PP</th>\n",
       "      <th>LIVINGAPARTMENTS_MODE_PP</th>\n",
       "      <th>NONLIVINGAPARTMENTS_MODE_PP</th>\n",
       "      <th>BASEMENTAREA_MEDI_PP</th>\n",
       "      <th>COMMONAREA_MEDI_PP</th>\n",
       "      <th>LANDAREA_MEDI_PP</th>\n",
       "      <th>LIVINGAREA_MEDI_PP</th>\n",
       "      <th>NONLIVINGAREA_MEDI_PP</th>\n",
       "      <th>TOTALAREA_MODE_PP</th>\n",
       "    </tr>\n",
       "  </thead>\n",
       "  <tbody>\n",
       "    <tr>\n",
       "      <th>0</th>\n",
       "      <td>0.018801</td>\n",
       "      <td>House / apartment</td>\n",
       "      <td>0.0252</td>\n",
       "      <td>0.9722</td>\n",
       "      <td>0.6341</td>\n",
       "      <td>0.0000</td>\n",
       "      <td>0.0690</td>\n",
       "      <td>0.0833</td>\n",
       "      <td>0.1250</td>\n",
       "      <td>0.0220</td>\n",
       "      <td>...</td>\n",
       "      <td>0.08330</td>\n",
       "      <td>0.12500</td>\n",
       "      <td>0.022000</td>\n",
       "      <td>0.00000</td>\n",
       "      <td>0.036900</td>\n",
       "      <td>0.0144</td>\n",
       "      <td>0.037500</td>\n",
       "      <td>0.0193</td>\n",
       "      <td>0.0000</td>\n",
       "      <td>0.014900</td>\n",
       "    </tr>\n",
       "    <tr>\n",
       "      <th>1</th>\n",
       "      <td>0.003541</td>\n",
       "      <td>House / apartment</td>\n",
       "      <td>0.0924</td>\n",
       "      <td>0.9851</td>\n",
       "      <td>0.8040</td>\n",
       "      <td>0.0806</td>\n",
       "      <td>0.0345</td>\n",
       "      <td>0.2917</td>\n",
       "      <td>0.3333</td>\n",
       "      <td>0.0790</td>\n",
       "      <td>...</td>\n",
       "      <td>0.14585</td>\n",
       "      <td>0.16665</td>\n",
       "      <td>0.039500</td>\n",
       "      <td>0.00000</td>\n",
       "      <td>0.026450</td>\n",
       "      <td>0.0304</td>\n",
       "      <td>0.006600</td>\n",
       "      <td>0.0279</td>\n",
       "      <td>0.0050</td>\n",
       "      <td>0.035700</td>\n",
       "    </tr>\n",
       "    <tr>\n",
       "      <th>12</th>\n",
       "      <td>0.031329</td>\n",
       "      <td>House / apartment</td>\n",
       "      <td>0.0840</td>\n",
       "      <td>0.9811</td>\n",
       "      <td>NaN</td>\n",
       "      <td>0.0000</td>\n",
       "      <td>0.2069</td>\n",
       "      <td>0.1667</td>\n",
       "      <td>NaN</td>\n",
       "      <td>NaN</td>\n",
       "      <td>...</td>\n",
       "      <td>0.08335</td>\n",
       "      <td>NaN</td>\n",
       "      <td>NaN</td>\n",
       "      <td>NaN</td>\n",
       "      <td>NaN</td>\n",
       "      <td>NaN</td>\n",
       "      <td>0.006850</td>\n",
       "      <td>0.0396</td>\n",
       "      <td>0.0000</td>\n",
       "      <td>0.030600</td>\n",
       "    </tr>\n",
       "    <tr>\n",
       "      <th>13</th>\n",
       "      <td>0.016612</td>\n",
       "      <td>House / apartment</td>\n",
       "      <td>0.1502</td>\n",
       "      <td>0.9806</td>\n",
       "      <td>0.7452</td>\n",
       "      <td>0.1611</td>\n",
       "      <td>0.1379</td>\n",
       "      <td>0.3333</td>\n",
       "      <td>0.3750</td>\n",
       "      <td>0.1313</td>\n",
       "      <td>...</td>\n",
       "      <td>0.11110</td>\n",
       "      <td>0.12500</td>\n",
       "      <td>0.043767</td>\n",
       "      <td>0.00000</td>\n",
       "      <td>0.032433</td>\n",
       "      <td>0.0195</td>\n",
       "      <td>0.031567</td>\n",
       "      <td>0.0474</td>\n",
       "      <td>0.0000</td>\n",
       "      <td>0.047233</td>\n",
       "    </tr>\n",
       "    <tr>\n",
       "      <th>14</th>\n",
       "      <td>0.010006</td>\n",
       "      <td>House / apartment</td>\n",
       "      <td>0.3561</td>\n",
       "      <td>0.9985</td>\n",
       "      <td>0.9804</td>\n",
       "      <td>0.4028</td>\n",
       "      <td>0.1724</td>\n",
       "      <td>0.6667</td>\n",
       "      <td>0.7083</td>\n",
       "      <td>0.3113</td>\n",
       "      <td>...</td>\n",
       "      <td>0.33335</td>\n",
       "      <td>0.35415</td>\n",
       "      <td>0.155650</td>\n",
       "      <td>0.00975</td>\n",
       "      <td>0.066750</td>\n",
       "      <td>0.0575</td>\n",
       "      <td>0.089450</td>\n",
       "      <td>0.1921</td>\n",
       "      <td>0.0511</td>\n",
       "      <td>0.190550</td>\n",
       "    </tr>\n",
       "  </tbody>\n",
       "</table>\n",
       "<p>5 rows × 34 columns</p>\n",
       "</div>"
      ],
      "text/plain": [
       "    REGION_POPULATION_RELATIVE  NAME_HOUSING_TYPE  APARTMENTS_MODE  \\\n",
       "0                     0.018801  House / apartment           0.0252   \n",
       "1                     0.003541  House / apartment           0.0924   \n",
       "12                    0.031329  House / apartment           0.0840   \n",
       "13                    0.016612  House / apartment           0.1502   \n",
       "14                    0.010006  House / apartment           0.3561   \n",
       "\n",
       "    YEARS_BEGINEXPLUATATION_MODE  YEARS_BUILD_MODE  ELEVATORS_MODE  \\\n",
       "0                         0.9722            0.6341          0.0000   \n",
       "1                         0.9851            0.8040          0.0806   \n",
       "12                        0.9811               NaN          0.0000   \n",
       "13                        0.9806            0.7452          0.1611   \n",
       "14                        0.9985            0.9804          0.4028   \n",
       "\n",
       "    ENTRANCES_MODE  FLOORSMAX_MODE  FLOORSMIN_MODE  LIVINGAPARTMENTS_MODE  \\\n",
       "0           0.0690          0.0833          0.1250                 0.0220   \n",
       "1           0.0345          0.2917          0.3333                 0.0790   \n",
       "12          0.2069          0.1667             NaN                    NaN   \n",
       "13          0.1379          0.3333          0.3750                 0.1313   \n",
       "14          0.1724          0.6667          0.7083                 0.3113   \n",
       "\n",
       "          ...         FLOORSMAX_MODE_PP  FLOORSMIN_MODE_PP  \\\n",
       "0         ...                   0.08330            0.12500   \n",
       "1         ...                   0.14585            0.16665   \n",
       "12        ...                   0.08335                NaN   \n",
       "13        ...                   0.11110            0.12500   \n",
       "14        ...                   0.33335            0.35415   \n",
       "\n",
       "    LIVINGAPARTMENTS_MODE_PP  NONLIVINGAPARTMENTS_MODE_PP  \\\n",
       "0                   0.022000                      0.00000   \n",
       "1                   0.039500                      0.00000   \n",
       "12                       NaN                          NaN   \n",
       "13                  0.043767                      0.00000   \n",
       "14                  0.155650                      0.00975   \n",
       "\n",
       "    BASEMENTAREA_MEDI_PP  COMMONAREA_MEDI_PP LANDAREA_MEDI_PP  \\\n",
       "0               0.036900              0.0144         0.037500   \n",
       "1               0.026450              0.0304         0.006600   \n",
       "12                   NaN                 NaN         0.006850   \n",
       "13              0.032433              0.0195         0.031567   \n",
       "14              0.066750              0.0575         0.089450   \n",
       "\n",
       "   LIVINGAREA_MEDI_PP  NONLIVINGAREA_MEDI_PP TOTALAREA_MODE_PP  \n",
       "0              0.0193                 0.0000          0.014900  \n",
       "1              0.0279                 0.0050          0.035700  \n",
       "12             0.0396                 0.0000          0.030600  \n",
       "13             0.0474                 0.0000          0.047233  \n",
       "14             0.1921                 0.0511          0.190550  \n",
       "\n",
       "[5 rows x 34 columns]"
      ]
     },
     "execution_count": 4,
     "metadata": {},
     "output_type": "execute_result"
    }
   ],
   "source": [
    "house = [f_ for f_ in data.columns if ('AVG' in f_) | ('MEDI' in f_) | ('MODE' in f_) ]\n",
    "print (len(house),house)\n",
    "train_house = data.loc[data[house].isnull().sum(axis=1)<len(house)][['REGION_POPULATION_RELATIVE','NAME_HOUSING_TYPE']+house]\n",
    "test_house = test.loc[test[house].isnull().sum(axis=1)<len(house)][['REGION_POPULATION_RELATIVE','NAME_HOUSING_TYPE']+house]\n",
    "y = data['TARGET'].loc[data[house].isnull().sum(axis=1)<len(house)]\n",
    "train_ID = data['SK_ID_CURR'].loc[data[house].isnull().sum(axis=1)<len(house)]\n",
    "test_ID = test['SK_ID_CURR'].loc[test[house].isnull().sum(axis=1)<len(house)]\n",
    "train_house.head()"
   ]
  },
  {
   "cell_type": "markdown",
   "metadata": {},
   "source": [
    "Create one hot encoding for some features."
   ]
  },
  {
   "cell_type": "code",
   "execution_count": 5,
   "metadata": {
    "_uuid": "49762f250dbdb0b0b7e80ccbc480b2c9b08dceff"
   },
   "outputs": [],
   "source": [
    "train_house_size = train_house.shape[0]\n",
    "test_house_size = test_house.shape[0]\n",
    "combined = pd.concat([train_house, test_house], axis=0)\n",
    "for f_ in combined.columns:\n",
    "    if combined[f_].dtype == 'object':\n",
    "        combined[f_].fillna(combined[f_].mode(), inplace=True)\n",
    "    else:\n",
    "        combined[f_].fillna(combined[f_].median(), inplace=True)\n",
    "combined = pd.concat([combined, pd.get_dummies(combined['REGION_POPULATION_RELATIVE'], prefix='REGION')], axis=1)\n",
    "for f_ in ['FONDKAPREMONT_MODE','HOUSETYPE_MODE','WALLSMATERIAL_MODE','EMERGENCYSTATE_MODE','NAME_HOUSING_TYPE']:\n",
    "    combined = pd.concat([combined, pd.get_dummies(combined[f_], prefix=f_)], axis=1)\n",
    "    del combined[f_]\n",
    "train_house = combined.iloc[:train_house_size,:]\n",
    "test_house = combined.iloc[-test_house_size:,:]"
   ]
  },
  {
   "cell_type": "markdown",
   "metadata": {},
   "source": [
    "#### Training using current target."
   ]
  },
  {
   "cell_type": "code",
   "execution_count": 6,
   "metadata": {
    "_uuid": "cd656f06c5c5627a1a9974559a1fa1957ed5de48"
   },
   "outputs": [
    {
     "name": "stdout",
     "output_type": "stream",
     "text": [
      "(161756, 130) (26535, 130)\n"
     ]
    },
    {
     "name": "stderr",
     "output_type": "stream",
     "text": [
      "C:\\Users\\monis\\Anaconda3\\lib\\site-packages\\sklearn\\linear_model\\logistic.py:433: FutureWarning: Default solver will be changed to 'lbfgs' in 0.22. Specify a solver to silence this warning.\n",
      "  FutureWarning)\n"
     ]
    },
    {
     "name": "stdout",
     "output_type": "stream",
     "text": [
      "Fold  1 AUC : (train): 0.590448, (val): 0.575626\n"
     ]
    },
    {
     "name": "stderr",
     "output_type": "stream",
     "text": [
      "C:\\Users\\monis\\Anaconda3\\lib\\site-packages\\sklearn\\linear_model\\logistic.py:433: FutureWarning: Default solver will be changed to 'lbfgs' in 0.22. Specify a solver to silence this warning.\n",
      "  FutureWarning)\n"
     ]
    },
    {
     "name": "stdout",
     "output_type": "stream",
     "text": [
      "Fold  2 AUC : (train): 0.589088, (val): 0.581632\n"
     ]
    },
    {
     "name": "stderr",
     "output_type": "stream",
     "text": [
      "C:\\Users\\monis\\Anaconda3\\lib\\site-packages\\sklearn\\linear_model\\logistic.py:433: FutureWarning: Default solver will be changed to 'lbfgs' in 0.22. Specify a solver to silence this warning.\n",
      "  FutureWarning)\n"
     ]
    },
    {
     "name": "stdout",
     "output_type": "stream",
     "text": [
      "Fold  3 AUC : (train): 0.587221, (val): 0.586963\n"
     ]
    },
    {
     "name": "stderr",
     "output_type": "stream",
     "text": [
      "C:\\Users\\monis\\Anaconda3\\lib\\site-packages\\sklearn\\linear_model\\logistic.py:433: FutureWarning: Default solver will be changed to 'lbfgs' in 0.22. Specify a solver to silence this warning.\n",
      "  FutureWarning)\n"
     ]
    },
    {
     "name": "stdout",
     "output_type": "stream",
     "text": [
      "Fold  4 AUC : (train): 0.589171, (val): 0.578094\n"
     ]
    },
    {
     "name": "stderr",
     "output_type": "stream",
     "text": [
      "C:\\Users\\monis\\Anaconda3\\lib\\site-packages\\sklearn\\linear_model\\logistic.py:433: FutureWarning: Default solver will be changed to 'lbfgs' in 0.22. Specify a solver to silence this warning.\n",
      "  FutureWarning)\n"
     ]
    },
    {
     "name": "stdout",
     "output_type": "stream",
     "text": [
      "Fold  5 AUC : (train): 0.590127, (val): 0.576567\n",
      "Full AUC score 0.579710\n"
     ]
    }
   ],
   "source": [
    "from sklearn.linear_model import LogisticRegression\n",
    "\n",
    "train_x = train_house\n",
    "train_y = y\n",
    "test_x = test_house\n",
    "print(train_x.shape, test_x.shape)\n",
    "\n",
    "folds = StratifiedKFold(n_splits=5, shuffle=True, random_state=546789)\n",
    "oof_preds = np.zeros(train_x.shape[0])\n",
    "sub_preds = np.zeros(test_x.shape[0])\n",
    "feature_importance_df = pd.DataFrame()\n",
    "\n",
    "for n_fold, (trn_idx, val_idx) in enumerate(folds.split(train_x, train_y)):\n",
    "    trn_x, val_x = train_x.iloc[trn_idx], train_x.iloc[val_idx]\n",
    "    trn_y, val_y = train_y.iloc[trn_idx], train_y.iloc[val_idx]\n",
    "     \n",
    "    model = LogisticRegression(C=0.05)\n",
    "    model.fit(trn_x, trn_y)\n",
    "    \n",
    "    trn_y_pred = model.predict_proba(trn_x)[:,1]\n",
    "    oof_preds[val_idx] = model.predict_proba(val_x)[:,1]\n",
    "    sub_preds += model.predict_proba(test_x)[:,1] / folds.n_splits\n",
    "    print('Fold %2d AUC : (train): %.6f, (val): %.6f' % (n_fold + 1, \n",
    "        roc_auc_score(trn_y, trn_y_pred), roc_auc_score(val_y, oof_preds[val_idx])))\n",
    "    \n",
    "print('Full AUC score %.6f' % roc_auc_score(train_y, oof_preds)) "
   ]
  },
  {
   "cell_type": "markdown",
   "metadata": {},
   "source": [
    "Save predictions to disk."
   ]
  },
  {
   "cell_type": "code",
   "execution_count": 7,
   "metadata": {
    "_uuid": "7c0673bf58bd73883becf61778bd1a56fa6b52c8"
   },
   "outputs": [
    {
     "data": {
      "text/plain": [
       "28"
      ]
     },
     "execution_count": 7,
     "metadata": {},
     "output_type": "execute_result"
    }
   ],
   "source": [
    "train_house_score = pd.DataFrame({'house_score':oof_preds}, index=train_ID)\n",
    "test_house_score = pd.DataFrame({'house_score':sub_preds}, index=test_ID)\n",
    "train_house_score.to_csv('train_house_score.csv')\n",
    "test_house_score.to_csv('test_house_score.csv')\n",
    "\n",
    "del combined, trn_x, trn_y, train_x, train_y, test_x\n",
    "del train_house, test_house\n",
    "gc.collect()"
   ]
  },
  {
   "cell_type": "markdown",
   "metadata": {
    "_uuid": "7575e628b5fcc8aa4c4dfff2eeaf1f17d6e9b5ef"
   },
   "source": [
    "#### Another training ues credit score as target"
   ]
  },
  {
   "cell_type": "code",
   "execution_count": 8,
   "metadata": {
    "_uuid": "b20b57c7e660f87b60cc7ab140343a607daec12c"
   },
   "outputs": [
    {
     "name": "stdout",
     "output_type": "stream",
     "text": [
      "(356076,) (356076, 34) (356076,)\n"
     ]
    },
    {
     "data": {
      "text/html": [
       "<div>\n",
       "<style scoped>\n",
       "    .dataframe tbody tr th:only-of-type {\n",
       "        vertical-align: middle;\n",
       "    }\n",
       "\n",
       "    .dataframe tbody tr th {\n",
       "        vertical-align: top;\n",
       "    }\n",
       "\n",
       "    .dataframe thead th {\n",
       "        text-align: right;\n",
       "    }\n",
       "</style>\n",
       "<table border=\"1\" class=\"dataframe\">\n",
       "  <thead>\n",
       "    <tr style=\"text-align: right;\">\n",
       "      <th></th>\n",
       "      <th>REGION_POPULATION_RELATIVE</th>\n",
       "      <th>NAME_HOUSING_TYPE</th>\n",
       "      <th>APARTMENTS_MODE</th>\n",
       "      <th>YEARS_BEGINEXPLUATATION_MODE</th>\n",
       "      <th>YEARS_BUILD_MODE</th>\n",
       "      <th>ELEVATORS_MODE</th>\n",
       "      <th>ENTRANCES_MODE</th>\n",
       "      <th>FLOORSMAX_MODE</th>\n",
       "      <th>FLOORSMIN_MODE</th>\n",
       "      <th>LIVINGAPARTMENTS_MODE</th>\n",
       "      <th>...</th>\n",
       "      <th>FLOORSMAX_MODE_PP</th>\n",
       "      <th>FLOORSMIN_MODE_PP</th>\n",
       "      <th>LIVINGAPARTMENTS_MODE_PP</th>\n",
       "      <th>NONLIVINGAPARTMENTS_MODE_PP</th>\n",
       "      <th>BASEMENTAREA_MEDI_PP</th>\n",
       "      <th>COMMONAREA_MEDI_PP</th>\n",
       "      <th>LANDAREA_MEDI_PP</th>\n",
       "      <th>LIVINGAREA_MEDI_PP</th>\n",
       "      <th>NONLIVINGAREA_MEDI_PP</th>\n",
       "      <th>TOTALAREA_MODE_PP</th>\n",
       "    </tr>\n",
       "  </thead>\n",
       "  <tbody>\n",
       "    <tr>\n",
       "      <th>0</th>\n",
       "      <td>0.018801</td>\n",
       "      <td>House / apartment</td>\n",
       "      <td>0.0252</td>\n",
       "      <td>0.9722</td>\n",
       "      <td>0.6341</td>\n",
       "      <td>0.0000</td>\n",
       "      <td>0.0690</td>\n",
       "      <td>0.0833</td>\n",
       "      <td>0.1250</td>\n",
       "      <td>0.022</td>\n",
       "      <td>...</td>\n",
       "      <td>0.08330</td>\n",
       "      <td>0.12500</td>\n",
       "      <td>0.0220</td>\n",
       "      <td>0.0</td>\n",
       "      <td>0.03690</td>\n",
       "      <td>0.0144</td>\n",
       "      <td>0.0375</td>\n",
       "      <td>0.0193</td>\n",
       "      <td>0.000</td>\n",
       "      <td>0.0149</td>\n",
       "    </tr>\n",
       "    <tr>\n",
       "      <th>1</th>\n",
       "      <td>0.003541</td>\n",
       "      <td>House / apartment</td>\n",
       "      <td>0.0924</td>\n",
       "      <td>0.9851</td>\n",
       "      <td>0.8040</td>\n",
       "      <td>0.0806</td>\n",
       "      <td>0.0345</td>\n",
       "      <td>0.2917</td>\n",
       "      <td>0.3333</td>\n",
       "      <td>0.079</td>\n",
       "      <td>...</td>\n",
       "      <td>0.14585</td>\n",
       "      <td>0.16665</td>\n",
       "      <td>0.0395</td>\n",
       "      <td>0.0</td>\n",
       "      <td>0.02645</td>\n",
       "      <td>0.0304</td>\n",
       "      <td>0.0066</td>\n",
       "      <td>0.0279</td>\n",
       "      <td>0.005</td>\n",
       "      <td>0.0357</td>\n",
       "    </tr>\n",
       "    <tr>\n",
       "      <th>2</th>\n",
       "      <td>0.010032</td>\n",
       "      <td>House / apartment</td>\n",
       "      <td>NaN</td>\n",
       "      <td>NaN</td>\n",
       "      <td>NaN</td>\n",
       "      <td>NaN</td>\n",
       "      <td>NaN</td>\n",
       "      <td>NaN</td>\n",
       "      <td>NaN</td>\n",
       "      <td>NaN</td>\n",
       "      <td>...</td>\n",
       "      <td>NaN</td>\n",
       "      <td>NaN</td>\n",
       "      <td>NaN</td>\n",
       "      <td>NaN</td>\n",
       "      <td>NaN</td>\n",
       "      <td>NaN</td>\n",
       "      <td>NaN</td>\n",
       "      <td>NaN</td>\n",
       "      <td>NaN</td>\n",
       "      <td>NaN</td>\n",
       "    </tr>\n",
       "    <tr>\n",
       "      <th>3</th>\n",
       "      <td>0.008019</td>\n",
       "      <td>House / apartment</td>\n",
       "      <td>NaN</td>\n",
       "      <td>NaN</td>\n",
       "      <td>NaN</td>\n",
       "      <td>NaN</td>\n",
       "      <td>NaN</td>\n",
       "      <td>NaN</td>\n",
       "      <td>NaN</td>\n",
       "      <td>NaN</td>\n",
       "      <td>...</td>\n",
       "      <td>NaN</td>\n",
       "      <td>NaN</td>\n",
       "      <td>NaN</td>\n",
       "      <td>NaN</td>\n",
       "      <td>NaN</td>\n",
       "      <td>NaN</td>\n",
       "      <td>NaN</td>\n",
       "      <td>NaN</td>\n",
       "      <td>NaN</td>\n",
       "      <td>NaN</td>\n",
       "    </tr>\n",
       "    <tr>\n",
       "      <th>4</th>\n",
       "      <td>0.028663</td>\n",
       "      <td>House / apartment</td>\n",
       "      <td>NaN</td>\n",
       "      <td>NaN</td>\n",
       "      <td>NaN</td>\n",
       "      <td>NaN</td>\n",
       "      <td>NaN</td>\n",
       "      <td>NaN</td>\n",
       "      <td>NaN</td>\n",
       "      <td>NaN</td>\n",
       "      <td>...</td>\n",
       "      <td>NaN</td>\n",
       "      <td>NaN</td>\n",
       "      <td>NaN</td>\n",
       "      <td>NaN</td>\n",
       "      <td>NaN</td>\n",
       "      <td>NaN</td>\n",
       "      <td>NaN</td>\n",
       "      <td>NaN</td>\n",
       "      <td>NaN</td>\n",
       "      <td>NaN</td>\n",
       "    </tr>\n",
       "  </tbody>\n",
       "</table>\n",
       "<p>5 rows × 34 columns</p>\n",
       "</div>"
      ],
      "text/plain": [
       "   REGION_POPULATION_RELATIVE  NAME_HOUSING_TYPE  APARTMENTS_MODE  \\\n",
       "0                    0.018801  House / apartment           0.0252   \n",
       "1                    0.003541  House / apartment           0.0924   \n",
       "2                    0.010032  House / apartment              NaN   \n",
       "3                    0.008019  House / apartment              NaN   \n",
       "4                    0.028663  House / apartment              NaN   \n",
       "\n",
       "   YEARS_BEGINEXPLUATATION_MODE  YEARS_BUILD_MODE  ELEVATORS_MODE  \\\n",
       "0                        0.9722            0.6341          0.0000   \n",
       "1                        0.9851            0.8040          0.0806   \n",
       "2                           NaN               NaN             NaN   \n",
       "3                           NaN               NaN             NaN   \n",
       "4                           NaN               NaN             NaN   \n",
       "\n",
       "   ENTRANCES_MODE  FLOORSMAX_MODE  FLOORSMIN_MODE  LIVINGAPARTMENTS_MODE  \\\n",
       "0          0.0690          0.0833          0.1250                  0.022   \n",
       "1          0.0345          0.2917          0.3333                  0.079   \n",
       "2             NaN             NaN             NaN                    NaN   \n",
       "3             NaN             NaN             NaN                    NaN   \n",
       "4             NaN             NaN             NaN                    NaN   \n",
       "\n",
       "         ...         FLOORSMAX_MODE_PP  FLOORSMIN_MODE_PP  \\\n",
       "0        ...                   0.08330            0.12500   \n",
       "1        ...                   0.14585            0.16665   \n",
       "2        ...                       NaN                NaN   \n",
       "3        ...                       NaN                NaN   \n",
       "4        ...                       NaN                NaN   \n",
       "\n",
       "   LIVINGAPARTMENTS_MODE_PP  NONLIVINGAPARTMENTS_MODE_PP  \\\n",
       "0                    0.0220                          0.0   \n",
       "1                    0.0395                          0.0   \n",
       "2                       NaN                          NaN   \n",
       "3                       NaN                          NaN   \n",
       "4                       NaN                          NaN   \n",
       "\n",
       "   BASEMENTAREA_MEDI_PP  COMMONAREA_MEDI_PP LANDAREA_MEDI_PP  \\\n",
       "0               0.03690              0.0144           0.0375   \n",
       "1               0.02645              0.0304           0.0066   \n",
       "2                   NaN                 NaN              NaN   \n",
       "3                   NaN                 NaN              NaN   \n",
       "4                   NaN                 NaN              NaN   \n",
       "\n",
       "  LIVINGAREA_MEDI_PP  NONLIVINGAREA_MEDI_PP TOTALAREA_MODE_PP  \n",
       "0             0.0193                  0.000            0.0149  \n",
       "1             0.0279                  0.005            0.0357  \n",
       "2                NaN                    NaN               NaN  \n",
       "3                NaN                    NaN               NaN  \n",
       "4                NaN                    NaN               NaN  \n",
       "\n",
       "[5 rows x 34 columns]"
      ]
     },
     "execution_count": 8,
     "metadata": {},
     "output_type": "execute_result"
    }
   ],
   "source": [
    "house = [f_ for f_ in data.columns if ('AVG' in f_) | ('MEDI' in f_) | ('MODE' in f_) ]\n",
    "combined = pd.concat([data,test],axis=0,sort=False)\n",
    "combined_house = combined.loc[combined[house].isnull().sum(axis=1)<47][['REGION_POPULATION_RELATIVE','NAME_HOUSING_TYPE']+house]\n",
    "y = combined[['EXT_SOURCE_1','EXT_SOURCE_2','EXT_SOURCE_3']].loc[combined[house].isnull().sum(axis=1)<47].mean(axis=1)\n",
    "combined_ID = combined['SK_ID_CURR'].loc[combined[house].isnull().sum(axis=1)<47]\n",
    "\n",
    "combined_house = combined_house.loc[y.notna()]\n",
    "combined_ID = combined_ID.loc[y.notna()]\n",
    "y = y.loc[y.notna()]\n",
    "print (y.shape, combined_house.shape, combined_ID.shape)\n",
    "combined_house.head()"
   ]
  },
  {
   "cell_type": "code",
   "execution_count": 9,
   "metadata": {
    "_uuid": "4ba8434738576a320c452e8b0261048039b97463"
   },
   "outputs": [
    {
     "data": {
      "text/html": [
       "<div>\n",
       "<style scoped>\n",
       "    .dataframe tbody tr th:only-of-type {\n",
       "        vertical-align: middle;\n",
       "    }\n",
       "\n",
       "    .dataframe tbody tr th {\n",
       "        vertical-align: top;\n",
       "    }\n",
       "\n",
       "    .dataframe thead th {\n",
       "        text-align: right;\n",
       "    }\n",
       "</style>\n",
       "<table border=\"1\" class=\"dataframe\">\n",
       "  <thead>\n",
       "    <tr style=\"text-align: right;\">\n",
       "      <th></th>\n",
       "      <th>REGION_POPULATION_RELATIVE</th>\n",
       "      <th>APARTMENTS_MODE</th>\n",
       "      <th>YEARS_BEGINEXPLUATATION_MODE</th>\n",
       "      <th>YEARS_BUILD_MODE</th>\n",
       "      <th>ELEVATORS_MODE</th>\n",
       "      <th>ENTRANCES_MODE</th>\n",
       "      <th>FLOORSMAX_MODE</th>\n",
       "      <th>FLOORSMIN_MODE</th>\n",
       "      <th>LIVINGAPARTMENTS_MODE</th>\n",
       "      <th>NONLIVINGAPARTMENTS_MODE</th>\n",
       "      <th>...</th>\n",
       "      <th>WALLSMATERIAL_MODE_Stone, brick</th>\n",
       "      <th>WALLSMATERIAL_MODE_Wooden</th>\n",
       "      <th>EMERGENCYSTATE_MODE_No</th>\n",
       "      <th>EMERGENCYSTATE_MODE_Yes</th>\n",
       "      <th>NAME_HOUSING_TYPE_Co-op apartment</th>\n",
       "      <th>NAME_HOUSING_TYPE_House / apartment</th>\n",
       "      <th>NAME_HOUSING_TYPE_Municipal apartment</th>\n",
       "      <th>NAME_HOUSING_TYPE_Office apartment</th>\n",
       "      <th>NAME_HOUSING_TYPE_Rented apartment</th>\n",
       "      <th>NAME_HOUSING_TYPE_With parents</th>\n",
       "    </tr>\n",
       "  </thead>\n",
       "  <tbody>\n",
       "    <tr>\n",
       "      <th>0</th>\n",
       "      <td>0.018801</td>\n",
       "      <td>0.0252</td>\n",
       "      <td>0.9722</td>\n",
       "      <td>0.6341</td>\n",
       "      <td>0.0000</td>\n",
       "      <td>0.0690</td>\n",
       "      <td>0.0833</td>\n",
       "      <td>0.1250</td>\n",
       "      <td>0.0220</td>\n",
       "      <td>0.0</td>\n",
       "      <td>...</td>\n",
       "      <td>1</td>\n",
       "      <td>0</td>\n",
       "      <td>1</td>\n",
       "      <td>0</td>\n",
       "      <td>0</td>\n",
       "      <td>1</td>\n",
       "      <td>0</td>\n",
       "      <td>0</td>\n",
       "      <td>0</td>\n",
       "      <td>0</td>\n",
       "    </tr>\n",
       "    <tr>\n",
       "      <th>1</th>\n",
       "      <td>0.003541</td>\n",
       "      <td>0.0924</td>\n",
       "      <td>0.9851</td>\n",
       "      <td>0.8040</td>\n",
       "      <td>0.0806</td>\n",
       "      <td>0.0345</td>\n",
       "      <td>0.2917</td>\n",
       "      <td>0.3333</td>\n",
       "      <td>0.0790</td>\n",
       "      <td>0.0</td>\n",
       "      <td>...</td>\n",
       "      <td>0</td>\n",
       "      <td>0</td>\n",
       "      <td>1</td>\n",
       "      <td>0</td>\n",
       "      <td>0</td>\n",
       "      <td>1</td>\n",
       "      <td>0</td>\n",
       "      <td>0</td>\n",
       "      <td>0</td>\n",
       "      <td>0</td>\n",
       "    </tr>\n",
       "    <tr>\n",
       "      <th>2</th>\n",
       "      <td>0.010032</td>\n",
       "      <td>0.0840</td>\n",
       "      <td>0.9816</td>\n",
       "      <td>0.7648</td>\n",
       "      <td>0.0000</td>\n",
       "      <td>0.1379</td>\n",
       "      <td>0.1667</td>\n",
       "      <td>0.2083</td>\n",
       "      <td>0.0771</td>\n",
       "      <td>0.0</td>\n",
       "      <td>...</td>\n",
       "      <td>0</td>\n",
       "      <td>0</td>\n",
       "      <td>0</td>\n",
       "      <td>0</td>\n",
       "      <td>0</td>\n",
       "      <td>1</td>\n",
       "      <td>0</td>\n",
       "      <td>0</td>\n",
       "      <td>0</td>\n",
       "      <td>0</td>\n",
       "    </tr>\n",
       "    <tr>\n",
       "      <th>3</th>\n",
       "      <td>0.008019</td>\n",
       "      <td>0.0840</td>\n",
       "      <td>0.9816</td>\n",
       "      <td>0.7648</td>\n",
       "      <td>0.0000</td>\n",
       "      <td>0.1379</td>\n",
       "      <td>0.1667</td>\n",
       "      <td>0.2083</td>\n",
       "      <td>0.0771</td>\n",
       "      <td>0.0</td>\n",
       "      <td>...</td>\n",
       "      <td>0</td>\n",
       "      <td>0</td>\n",
       "      <td>0</td>\n",
       "      <td>0</td>\n",
       "      <td>0</td>\n",
       "      <td>1</td>\n",
       "      <td>0</td>\n",
       "      <td>0</td>\n",
       "      <td>0</td>\n",
       "      <td>0</td>\n",
       "    </tr>\n",
       "    <tr>\n",
       "      <th>4</th>\n",
       "      <td>0.028663</td>\n",
       "      <td>0.0840</td>\n",
       "      <td>0.9816</td>\n",
       "      <td>0.7648</td>\n",
       "      <td>0.0000</td>\n",
       "      <td>0.1379</td>\n",
       "      <td>0.1667</td>\n",
       "      <td>0.2083</td>\n",
       "      <td>0.0771</td>\n",
       "      <td>0.0</td>\n",
       "      <td>...</td>\n",
       "      <td>0</td>\n",
       "      <td>0</td>\n",
       "      <td>0</td>\n",
       "      <td>0</td>\n",
       "      <td>0</td>\n",
       "      <td>1</td>\n",
       "      <td>0</td>\n",
       "      <td>0</td>\n",
       "      <td>0</td>\n",
       "      <td>0</td>\n",
       "    </tr>\n",
       "  </tbody>\n",
       "</table>\n",
       "<p>5 rows × 133 columns</p>\n",
       "</div>"
      ],
      "text/plain": [
       "   REGION_POPULATION_RELATIVE  APARTMENTS_MODE  YEARS_BEGINEXPLUATATION_MODE  \\\n",
       "0                    0.018801           0.0252                        0.9722   \n",
       "1                    0.003541           0.0924                        0.9851   \n",
       "2                    0.010032           0.0840                        0.9816   \n",
       "3                    0.008019           0.0840                        0.9816   \n",
       "4                    0.028663           0.0840                        0.9816   \n",
       "\n",
       "   YEARS_BUILD_MODE  ELEVATORS_MODE  ENTRANCES_MODE  FLOORSMAX_MODE  \\\n",
       "0            0.6341          0.0000          0.0690          0.0833   \n",
       "1            0.8040          0.0806          0.0345          0.2917   \n",
       "2            0.7648          0.0000          0.1379          0.1667   \n",
       "3            0.7648          0.0000          0.1379          0.1667   \n",
       "4            0.7648          0.0000          0.1379          0.1667   \n",
       "\n",
       "   FLOORSMIN_MODE  LIVINGAPARTMENTS_MODE  NONLIVINGAPARTMENTS_MODE  \\\n",
       "0          0.1250                 0.0220                       0.0   \n",
       "1          0.3333                 0.0790                       0.0   \n",
       "2          0.2083                 0.0771                       0.0   \n",
       "3          0.2083                 0.0771                       0.0   \n",
       "4          0.2083                 0.0771                       0.0   \n",
       "\n",
       "                ...                WALLSMATERIAL_MODE_Stone, brick  \\\n",
       "0               ...                                              1   \n",
       "1               ...                                              0   \n",
       "2               ...                                              0   \n",
       "3               ...                                              0   \n",
       "4               ...                                              0   \n",
       "\n",
       "   WALLSMATERIAL_MODE_Wooden  EMERGENCYSTATE_MODE_No  EMERGENCYSTATE_MODE_Yes  \\\n",
       "0                          0                       1                        0   \n",
       "1                          0                       1                        0   \n",
       "2                          0                       0                        0   \n",
       "3                          0                       0                        0   \n",
       "4                          0                       0                        0   \n",
       "\n",
       "   NAME_HOUSING_TYPE_Co-op apartment  NAME_HOUSING_TYPE_House / apartment  \\\n",
       "0                                  0                                    1   \n",
       "1                                  0                                    1   \n",
       "2                                  0                                    1   \n",
       "3                                  0                                    1   \n",
       "4                                  0                                    1   \n",
       "\n",
       "   NAME_HOUSING_TYPE_Municipal apartment  NAME_HOUSING_TYPE_Office apartment  \\\n",
       "0                                      0                                   0   \n",
       "1                                      0                                   0   \n",
       "2                                      0                                   0   \n",
       "3                                      0                                   0   \n",
       "4                                      0                                   0   \n",
       "\n",
       "   NAME_HOUSING_TYPE_Rented apartment  NAME_HOUSING_TYPE_With parents  \n",
       "0                                   0                               0  \n",
       "1                                   0                               0  \n",
       "2                                   0                               0  \n",
       "3                                   0                               0  \n",
       "4                                   0                               0  \n",
       "\n",
       "[5 rows x 133 columns]"
      ]
     },
     "execution_count": 9,
     "metadata": {},
     "output_type": "execute_result"
    }
   ],
   "source": [
    "combined = combined_house\n",
    "for f_ in combined.columns:\n",
    "    if combined[f_].dtype == 'object':\n",
    "        combined[f_].fillna(combined[f_].mode(), inplace=True)\n",
    "    else:\n",
    "        combined[f_].fillna(combined[f_].median(), inplace=True)\n",
    "combined = pd.concat([combined, pd.get_dummies(combined['REGION_POPULATION_RELATIVE'], prefix='REGION')], axis=1)\n",
    "for f_ in ['FONDKAPREMONT_MODE','HOUSETYPE_MODE','WALLSMATERIAL_MODE','EMERGENCYSTATE_MODE','NAME_HOUSING_TYPE']:\n",
    "    combined = pd.concat([combined, pd.get_dummies(combined[f_], prefix=f_)], axis=1)\n",
    "    del combined[f_]\n",
    "\n",
    "combined.head()"
   ]
  },
  {
   "cell_type": "markdown",
   "metadata": {},
   "source": [
    "This time we use Ridge because credit scores are continuous..."
   ]
  },
  {
   "cell_type": "code",
   "execution_count": 10,
   "metadata": {
    "_uuid": "39ae45dc92b8a82efb599a911b15ced6cf169307"
   },
   "outputs": [
    {
     "name": "stdout",
     "output_type": "stream",
     "text": [
      "Fold  1 r2_score : (train): 0.106178, (val): 0.112055\n",
      "Fold  2 r2_score : (train): 0.108160, (val): 0.104122\n",
      "Fold  3 r2_score : (train): 0.108014, (val): 0.104745\n",
      "Fold  4 r2_score : (train): 0.107465, (val): 0.106880\n",
      "Fold  5 r2_score : (train): 0.107725, (val): 0.105824\n",
      "Full r2_score 0.107432\n"
     ]
    }
   ],
   "source": [
    "from sklearn.linear_model import Ridge\n",
    "from sklearn.metrics import r2_score\n",
    "\n",
    "folds = KFold(n_splits=5, shuffle=True, random_state=546789)\n",
    "\n",
    "train_x = combined\n",
    "train_y = y\n",
    "\n",
    "for n_fold, (trn_idx, val_idx) in enumerate(folds.split(train_x)):\n",
    "    trn_x, val_x = train_x.iloc[trn_idx], train_x.iloc[val_idx]\n",
    "    trn_y, val_y = train_y.iloc[trn_idx], train_y.iloc[val_idx]\n",
    "     \n",
    "    model = Ridge()    \n",
    "    model.fit(trn_x, trn_y)\n",
    "    \n",
    "    trn_y_pred = model.predict(trn_x)\n",
    "    val_y_pred = model.predict(val_x)\n",
    "    print('Fold %2d r2_score : (train): %.6f, (val): %.6f' % (n_fold + 1, \n",
    "        r2_score(trn_y, trn_y_pred), r2_score(val_y, val_y_pred)))\n",
    "\n",
    "model.fit(train_x, y)\n",
    "pred_y = model.predict(train_x)\n",
    "print('Full r2_score %.6f' % r2_score(train_y, pred_y)) "
   ]
  },
  {
   "cell_type": "markdown",
   "metadata": {},
   "source": [
    "Save predictions to disk."
   ]
  },
  {
   "cell_type": "code",
   "execution_count": 11,
   "metadata": {
    "_uuid": "dc5e79eaacbf6e06265d573b4a5c24a9b4f0f4a3"
   },
   "outputs": [
    {
     "data": {
      "text/plain": [
       "17"
      ]
     },
     "execution_count": 11,
     "metadata": {},
     "output_type": "execute_result"
    }
   ],
   "source": [
    "house_ex = pd.DataFrame({'house_score':pred_y}, index=combined_ID)\n",
    "house_ex.to_csv('house_ex.csv')\n",
    "\n",
    "del combined, combined_house, train_x, train_y\n",
    "gc.collect()"
   ]
  },
  {
   "cell_type": "markdown",
   "metadata": {
    "_uuid": "49918fa234f4708d0f3aa6276e4737361a8a6e4d"
   },
   "source": [
    "### Document features\n",
    "\n",
    "Read document features from main train/test table."
   ]
  },
  {
   "cell_type": "code",
   "execution_count": 12,
   "metadata": {
    "_uuid": "37f66254f070e8752260d7c4d114fa586932e44f"
   },
   "outputs": [
    {
     "data": {
      "text/html": [
       "<div>\n",
       "<style scoped>\n",
       "    .dataframe tbody tr th:only-of-type {\n",
       "        vertical-align: middle;\n",
       "    }\n",
       "\n",
       "    .dataframe tbody tr th {\n",
       "        vertical-align: top;\n",
       "    }\n",
       "\n",
       "    .dataframe thead th {\n",
       "        text-align: right;\n",
       "    }\n",
       "</style>\n",
       "<table border=\"1\" class=\"dataframe\">\n",
       "  <thead>\n",
       "    <tr style=\"text-align: right;\">\n",
       "      <th></th>\n",
       "      <th>FLAG_DOCUMENT_2</th>\n",
       "      <th>FLAG_DOCUMENT_3</th>\n",
       "      <th>FLAG_DOCUMENT_4</th>\n",
       "      <th>FLAG_DOCUMENT_5</th>\n",
       "      <th>FLAG_DOCUMENT_6</th>\n",
       "      <th>FLAG_DOCUMENT_7</th>\n",
       "      <th>FLAG_DOCUMENT_8</th>\n",
       "      <th>FLAG_DOCUMENT_9</th>\n",
       "      <th>FLAG_DOCUMENT_10</th>\n",
       "      <th>FLAG_DOCUMENT_11</th>\n",
       "      <th>FLAG_DOCUMENT_12</th>\n",
       "      <th>FLAG_DOCUMENT_13</th>\n",
       "      <th>FLAG_DOCUMENT_14</th>\n",
       "      <th>FLAG_DOCUMENT_15</th>\n",
       "      <th>FLAG_DOCUMENT_16</th>\n",
       "      <th>FLAG_DOCUMENT_17</th>\n",
       "      <th>FLAG_DOCUMENT_18</th>\n",
       "      <th>FLAG_DOCUMENT_19</th>\n",
       "      <th>FLAG_DOCUMENT_20</th>\n",
       "      <th>FLAG_DOCUMENT_21</th>\n",
       "    </tr>\n",
       "  </thead>\n",
       "  <tbody>\n",
       "    <tr>\n",
       "      <th>0</th>\n",
       "      <td>0</td>\n",
       "      <td>1</td>\n",
       "      <td>0</td>\n",
       "      <td>0</td>\n",
       "      <td>0</td>\n",
       "      <td>0</td>\n",
       "      <td>0</td>\n",
       "      <td>0</td>\n",
       "      <td>0</td>\n",
       "      <td>0</td>\n",
       "      <td>0</td>\n",
       "      <td>0</td>\n",
       "      <td>0</td>\n",
       "      <td>0</td>\n",
       "      <td>0</td>\n",
       "      <td>0</td>\n",
       "      <td>0</td>\n",
       "      <td>0</td>\n",
       "      <td>0</td>\n",
       "      <td>0</td>\n",
       "    </tr>\n",
       "    <tr>\n",
       "      <th>1</th>\n",
       "      <td>0</td>\n",
       "      <td>1</td>\n",
       "      <td>0</td>\n",
       "      <td>0</td>\n",
       "      <td>0</td>\n",
       "      <td>0</td>\n",
       "      <td>0</td>\n",
       "      <td>0</td>\n",
       "      <td>0</td>\n",
       "      <td>0</td>\n",
       "      <td>0</td>\n",
       "      <td>0</td>\n",
       "      <td>0</td>\n",
       "      <td>0</td>\n",
       "      <td>0</td>\n",
       "      <td>0</td>\n",
       "      <td>0</td>\n",
       "      <td>0</td>\n",
       "      <td>0</td>\n",
       "      <td>0</td>\n",
       "    </tr>\n",
       "    <tr>\n",
       "      <th>2</th>\n",
       "      <td>0</td>\n",
       "      <td>0</td>\n",
       "      <td>0</td>\n",
       "      <td>0</td>\n",
       "      <td>0</td>\n",
       "      <td>0</td>\n",
       "      <td>0</td>\n",
       "      <td>0</td>\n",
       "      <td>0</td>\n",
       "      <td>0</td>\n",
       "      <td>0</td>\n",
       "      <td>0</td>\n",
       "      <td>0</td>\n",
       "      <td>0</td>\n",
       "      <td>0</td>\n",
       "      <td>0</td>\n",
       "      <td>0</td>\n",
       "      <td>0</td>\n",
       "      <td>0</td>\n",
       "      <td>0</td>\n",
       "    </tr>\n",
       "    <tr>\n",
       "      <th>3</th>\n",
       "      <td>0</td>\n",
       "      <td>1</td>\n",
       "      <td>0</td>\n",
       "      <td>0</td>\n",
       "      <td>0</td>\n",
       "      <td>0</td>\n",
       "      <td>0</td>\n",
       "      <td>0</td>\n",
       "      <td>0</td>\n",
       "      <td>0</td>\n",
       "      <td>0</td>\n",
       "      <td>0</td>\n",
       "      <td>0</td>\n",
       "      <td>0</td>\n",
       "      <td>0</td>\n",
       "      <td>0</td>\n",
       "      <td>0</td>\n",
       "      <td>0</td>\n",
       "      <td>0</td>\n",
       "      <td>0</td>\n",
       "    </tr>\n",
       "    <tr>\n",
       "      <th>4</th>\n",
       "      <td>0</td>\n",
       "      <td>0</td>\n",
       "      <td>0</td>\n",
       "      <td>0</td>\n",
       "      <td>0</td>\n",
       "      <td>0</td>\n",
       "      <td>1</td>\n",
       "      <td>0</td>\n",
       "      <td>0</td>\n",
       "      <td>0</td>\n",
       "      <td>0</td>\n",
       "      <td>0</td>\n",
       "      <td>0</td>\n",
       "      <td>0</td>\n",
       "      <td>0</td>\n",
       "      <td>0</td>\n",
       "      <td>0</td>\n",
       "      <td>0</td>\n",
       "      <td>0</td>\n",
       "      <td>0</td>\n",
       "    </tr>\n",
       "  </tbody>\n",
       "</table>\n",
       "</div>"
      ],
      "text/plain": [
       "   FLAG_DOCUMENT_2  FLAG_DOCUMENT_3  FLAG_DOCUMENT_4  FLAG_DOCUMENT_5  \\\n",
       "0                0                1                0                0   \n",
       "1                0                1                0                0   \n",
       "2                0                0                0                0   \n",
       "3                0                1                0                0   \n",
       "4                0                0                0                0   \n",
       "\n",
       "   FLAG_DOCUMENT_6  FLAG_DOCUMENT_7  FLAG_DOCUMENT_8  FLAG_DOCUMENT_9  \\\n",
       "0                0                0                0                0   \n",
       "1                0                0                0                0   \n",
       "2                0                0                0                0   \n",
       "3                0                0                0                0   \n",
       "4                0                0                1                0   \n",
       "\n",
       "   FLAG_DOCUMENT_10  FLAG_DOCUMENT_11  FLAG_DOCUMENT_12  FLAG_DOCUMENT_13  \\\n",
       "0                 0                 0                 0                 0   \n",
       "1                 0                 0                 0                 0   \n",
       "2                 0                 0                 0                 0   \n",
       "3                 0                 0                 0                 0   \n",
       "4                 0                 0                 0                 0   \n",
       "\n",
       "   FLAG_DOCUMENT_14  FLAG_DOCUMENT_15  FLAG_DOCUMENT_16  FLAG_DOCUMENT_17  \\\n",
       "0                 0                 0                 0                 0   \n",
       "1                 0                 0                 0                 0   \n",
       "2                 0                 0                 0                 0   \n",
       "3                 0                 0                 0                 0   \n",
       "4                 0                 0                 0                 0   \n",
       "\n",
       "   FLAG_DOCUMENT_18  FLAG_DOCUMENT_19  FLAG_DOCUMENT_20  FLAG_DOCUMENT_21  \n",
       "0                 0                 0                 0                 0  \n",
       "1                 0                 0                 0                 0  \n",
       "2                 0                 0                 0                 0  \n",
       "3                 0                 0                 0                 0  \n",
       "4                 0                 0                 0                 0  "
      ]
     },
     "execution_count": 12,
     "metadata": {},
     "output_type": "execute_result"
    }
   ],
   "source": [
    "doc = [f_ for f_ in data.columns if ('FLAG_DOCUMENT' in f_) ]\n",
    "train_x = data[doc]\n",
    "test_x = test[doc]\n",
    "train_y = data['TARGET']\n",
    "train_ID = data['SK_ID_CURR']\n",
    "test_ID = test['SK_ID_CURR']\n",
    "train_x.head()"
   ]
  },
  {
   "cell_type": "markdown",
   "metadata": {},
   "source": [
    "Training with logistic regression."
   ]
  },
  {
   "cell_type": "code",
   "execution_count": 13,
   "metadata": {
    "_uuid": "df570730d7b2ef2c14926bacf8b900de07255692"
   },
   "outputs": [
    {
     "name": "stderr",
     "output_type": "stream",
     "text": [
      "C:\\Users\\monis\\Anaconda3\\lib\\site-packages\\sklearn\\linear_model\\logistic.py:433: FutureWarning: Default solver will be changed to 'lbfgs' in 0.22. Specify a solver to silence this warning.\n",
      "  FutureWarning)\n"
     ]
    },
    {
     "name": "stdout",
     "output_type": "stream",
     "text": [
      "Fold  1 AUC : (train): 0.545659, (val): 0.541470\n"
     ]
    },
    {
     "name": "stderr",
     "output_type": "stream",
     "text": [
      "C:\\Users\\monis\\Anaconda3\\lib\\site-packages\\sklearn\\linear_model\\logistic.py:433: FutureWarning: Default solver will be changed to 'lbfgs' in 0.22. Specify a solver to silence this warning.\n",
      "  FutureWarning)\n"
     ]
    },
    {
     "name": "stdout",
     "output_type": "stream",
     "text": [
      "Fold  2 AUC : (train): 0.544123, (val): 0.547888\n"
     ]
    },
    {
     "name": "stderr",
     "output_type": "stream",
     "text": [
      "C:\\Users\\monis\\Anaconda3\\lib\\site-packages\\sklearn\\linear_model\\logistic.py:433: FutureWarning: Default solver will be changed to 'lbfgs' in 0.22. Specify a solver to silence this warning.\n",
      "  FutureWarning)\n"
     ]
    },
    {
     "name": "stdout",
     "output_type": "stream",
     "text": [
      "Fold  3 AUC : (train): 0.544387, (val): 0.546828\n"
     ]
    },
    {
     "name": "stderr",
     "output_type": "stream",
     "text": [
      "C:\\Users\\monis\\Anaconda3\\lib\\site-packages\\sklearn\\linear_model\\logistic.py:433: FutureWarning: Default solver will be changed to 'lbfgs' in 0.22. Specify a solver to silence this warning.\n",
      "  FutureWarning)\n"
     ]
    },
    {
     "name": "stdout",
     "output_type": "stream",
     "text": [
      "Fold  4 AUC : (train): 0.544828, (val): 0.544968\n"
     ]
    },
    {
     "name": "stderr",
     "output_type": "stream",
     "text": [
      "C:\\Users\\monis\\Anaconda3\\lib\\site-packages\\sklearn\\linear_model\\logistic.py:433: FutureWarning: Default solver will be changed to 'lbfgs' in 0.22. Specify a solver to silence this warning.\n",
      "  FutureWarning)\n"
     ]
    },
    {
     "name": "stdout",
     "output_type": "stream",
     "text": [
      "Fold  5 AUC : (train): 0.545709, (val): 0.541570\n",
      "Full AUC score 0.543417\n"
     ]
    }
   ],
   "source": [
    "folds = StratifiedKFold(n_splits=5, shuffle=True, random_state=546789)\n",
    "oof_preds = np.zeros(train_x.shape[0])\n",
    "sub_preds = np.zeros(test_x.shape[0])\n",
    "\n",
    "for n_fold, (trn_idx, val_idx) in enumerate(folds.split(train_x, train_y)):\n",
    "    trn_x, val_x = train_x.iloc[trn_idx], train_x.iloc[val_idx]\n",
    "    trn_y, val_y = train_y.iloc[trn_idx], train_y.iloc[val_idx]\n",
    "     \n",
    "    model = LogisticRegression(C=0.1)\n",
    "    model.fit(trn_x, trn_y)\n",
    "    \n",
    "    trn_y_pred = model.predict_proba(trn_x)[:,1]\n",
    "    oof_preds[val_idx] = model.predict_proba(val_x)[:,1]\n",
    "    sub_preds += model.predict_proba(test_x)[:,1] / folds.n_splits\n",
    "    print('Fold %2d AUC : (train): %.6f, (val): %.6f' % (n_fold + 1, \n",
    "        roc_auc_score(trn_y, trn_y_pred), roc_auc_score(val_y, oof_preds[val_idx])))\n",
    "    \n",
    "print('Full AUC score %.6f' % roc_auc_score(train_y, oof_preds)) "
   ]
  },
  {
   "cell_type": "markdown",
   "metadata": {},
   "source": [
    "Save predictions to disk."
   ]
  },
  {
   "cell_type": "code",
   "execution_count": 14,
   "metadata": {
    "_uuid": "6b1fc90ad0abafd5e129c6c1aef03ce5b8e8ae1f"
   },
   "outputs": [
    {
     "data": {
      "text/plain": [
       "27"
      ]
     },
     "execution_count": 14,
     "metadata": {},
     "output_type": "execute_result"
    }
   ],
   "source": [
    "train_doc_score = pd.DataFrame({'doc_score':oof_preds}, index=train_ID)\n",
    "test_doc_score = pd.DataFrame({'doc_score':sub_preds}, index=test_ID)\n",
    "train_doc_score.to_csv('train_doc_score.csv')\n",
    "test_doc_score.to_csv('test_doc_score.csv')\n",
    "\n",
    "del trn_x, trn_y, train_x, train_y, test_x\n",
    "gc.collect()"
   ]
  },
  {
   "cell_type": "code",
   "execution_count": null,
   "metadata": {},
   "outputs": [],
   "source": []
  }
 ],
 "metadata": {
  "kernelspec": {
   "display_name": "Python 3",
   "language": "python",
   "name": "python3"
  },
  "language_info": {
   "codemirror_mode": {
    "name": "ipython",
    "version": 3
   },
   "file_extension": ".py",
   "mimetype": "text/x-python",
   "name": "python",
   "nbconvert_exporter": "python",
   "pygments_lexer": "ipython3",
   "version": "3.7.1"
  }
 },
 "nbformat": 4,
 "nbformat_minor": 1
}
